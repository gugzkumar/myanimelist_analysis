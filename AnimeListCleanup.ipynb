{
 "cells": [
  {
   "cell_type": "markdown",
   "metadata": {},
   "source": [
    "# <center>Anime Data Cleanup</center>"
   ]
  },
  {
   "cell_type": "markdown",
   "metadata": {},
   "source": [
    "This Notebook taxes the json results of a Scrapy webscraper scraping https://myanimelist.net, cleans and fortmats the data and then produces useable csv files for future analysis. It is important to note that this is only data from show of the TV category (no Movies or OVA's). The webscraper ran on January 20th, 2017. So any titles or changes in ratings since then wil not be a part of this data set."
   ]
  },
  {
   "cell_type": "code",
   "execution_count": 1,
   "metadata": {
    "collapsed": false
   },
   "outputs": [],
   "source": [
    "import json\n",
    "from pprint import pprint\n",
    "import numpy as np\n",
    "import pandas as pd\n",
    "from IPython.display import display, HTML\n",
    "import re\n",
    "with open('anime.json') as json_data:\n",
    "    raw_json = json.load(json_data)"
   ]
  },
  {
   "cell_type": "markdown",
   "metadata": {},
   "source": [
    "## Table of Contents\n",
    "1. [Loading Raw Data](#loading)<br>\n",
    "2. [Removing Missing Data](#missing)<br>\n",
    "3. [Cleaning Data Tables](#cleaning)<br>\n",
    "4. [Final Data Tables](#final)<br>"
   ]
  },
  {
   "cell_type": "markdown",
   "metadata": {},
   "source": [
    "<a id ='loading'></a>"
   ]
  },
  {
   "cell_type": "markdown",
   "metadata": {},
   "source": [
    "## Loading Raw Data From anime.json\n",
    "<a id ='loading'></a>"
   ]
  },
  {
   "cell_type": "code",
   "execution_count": 2,
   "metadata": {
    "collapsed": false
   },
   "outputs": [],
   "source": [
    "listdata_json =[]\n",
    "pagedata_json =[]\n",
    "recommendationdata_json =[]\n",
    "statsdata_json = []"
   ]
  },
  {
   "cell_type": "code",
   "execution_count": 3,
   "metadata": {
    "collapsed": false
   },
   "outputs": [],
   "source": [
    "for json in raw_json:\n",
    "    if(json['pagetype'] == 'ListEntry'):\n",
    "        listdata_json.append(json)\n",
    "    elif(json['pagetype'] == 'PageEntry'):\n",
    "        pagedata_json.append(json)\n",
    "    elif(json['pagetype'] == 'StatsEntry'):\n",
    "        statsdata_json.append(json)\n",
    "    elif(json['pagetype'] == 'RecommendationEntry'):\n",
    "        recommendationdata_json.append(json)"
   ]
  },
  {
   "cell_type": "code",
   "execution_count": 4,
   "metadata": {
    "collapsed": false
   },
   "outputs": [],
   "source": [
    "listframe = pd.DataFrame(listdata_json)\n",
    "pageframe = pd.DataFrame(pagedata_json)\n",
    "statsframe = pd.DataFrame(statsdata_json)\n",
    "recommendationframe = pd.DataFrame(recommendationdata_json)"
   ]
  },
  {
   "cell_type": "code",
   "execution_count": 5,
   "metadata": {
    "collapsed": false,
    "scrolled": true
   },
   "outputs": [
    {
     "name": "stdout",
     "output_type": "stream",
     "text": [
      "List Columns\n"
     ]
    },
    {
     "data": {
      "text/html": [
       "<div>\n",
       "<table border=\"1\" class=\"dataframe\">\n",
       "  <thead>\n",
       "    <tr style=\"text-align: right;\">\n",
       "      <th></th>\n",
       "      <th>episodes</th>\n",
       "      <th>link</th>\n",
       "      <th>members</th>\n",
       "      <th>pagetype</th>\n",
       "      <th>rank</th>\n",
       "      <th>score</th>\n",
       "      <th>title</th>\n",
       "    </tr>\n",
       "  </thead>\n",
       "  <tbody>\n",
       "  </tbody>\n",
       "</table>\n",
       "</div>"
      ],
      "text/plain": [
       "Empty DataFrame\n",
       "Columns: [episodes, link, members, pagetype, rank, score, title]\n",
       "Index: []"
      ]
     },
     "metadata": {},
     "output_type": "display_data"
    },
    {
     "name": "stdout",
     "output_type": "stream",
     "text": [
      "Page Columns\n"
     ]
    },
    {
     "data": {
      "text/html": [
       "<div>\n",
       "<table border=\"1\" class=\"dataframe\">\n",
       "  <thead>\n",
       "    <tr style=\"text-align: right;\">\n",
       "      <th></th>\n",
       "      <th>aired</th>\n",
       "      <th>episodes</th>\n",
       "      <th>genres</th>\n",
       "      <th>pagetype</th>\n",
       "      <th>producers</th>\n",
       "      <th>recommendationlink</th>\n",
       "      <th>score</th>\n",
       "      <th>statslink</th>\n",
       "      <th>status</th>\n",
       "      <th>streamtype</th>\n",
       "      <th>studios</th>\n",
       "      <th>title</th>\n",
       "    </tr>\n",
       "  </thead>\n",
       "  <tbody>\n",
       "  </tbody>\n",
       "</table>\n",
       "</div>"
      ],
      "text/plain": [
       "Empty DataFrame\n",
       "Columns: [aired, episodes, genres, pagetype, producers, recommendationlink, score, statslink, status, streamtype, studios, title]\n",
       "Index: []"
      ]
     },
     "metadata": {},
     "output_type": "display_data"
    },
    {
     "name": "stdout",
     "output_type": "stream",
     "text": [
      "Stats Columns\n"
     ]
    },
    {
     "data": {
      "text/html": [
       "<div>\n",
       "<table border=\"1\" class=\"dataframe\">\n",
       "  <thead>\n",
       "    <tr style=\"text-align: right;\">\n",
       "      <th></th>\n",
       "      <th>pagetype</th>\n",
       "      <th>score1</th>\n",
       "      <th>score10</th>\n",
       "      <th>score2</th>\n",
       "      <th>score3</th>\n",
       "      <th>score4</th>\n",
       "      <th>score5</th>\n",
       "      <th>score6</th>\n",
       "      <th>score7</th>\n",
       "      <th>score8</th>\n",
       "      <th>score9</th>\n",
       "      <th>title</th>\n",
       "    </tr>\n",
       "  </thead>\n",
       "  <tbody>\n",
       "  </tbody>\n",
       "</table>\n",
       "</div>"
      ],
      "text/plain": [
       "Empty DataFrame\n",
       "Columns: [pagetype, score1, score10, score2, score3, score4, score5, score6, score7, score8, score9, title]\n",
       "Index: []"
      ]
     },
     "metadata": {},
     "output_type": "display_data"
    },
    {
     "name": "stdout",
     "output_type": "stream",
     "text": [
      "Recommendation Columns\n"
     ]
    },
    {
     "data": {
      "text/html": [
       "<div>\n",
       "<table border=\"1\" class=\"dataframe\">\n",
       "  <thead>\n",
       "    <tr style=\"text-align: right;\">\n",
       "      <th></th>\n",
       "      <th>pagetype</th>\n",
       "      <th>recommendations</th>\n",
       "      <th>title</th>\n",
       "    </tr>\n",
       "  </thead>\n",
       "  <tbody>\n",
       "  </tbody>\n",
       "</table>\n",
       "</div>"
      ],
      "text/plain": [
       "Empty DataFrame\n",
       "Columns: [pagetype, recommendations, title]\n",
       "Index: []"
      ]
     },
     "metadata": {},
     "output_type": "display_data"
    }
   ],
   "source": [
    "#Displays columns for each table\n",
    "print(\"List Columns\")\n",
    "display(listframe.head(0))\n",
    "print(\"Page Columns\")\n",
    "display(pageframe.head(0))\n",
    "print(\"Stats Columns\")\n",
    "display(statsframe.head(0))\n",
    "print(\"Recommendation Columns\")\n",
    "display(recommendationframe.head(0))"
   ]
  },
  {
   "cell_type": "markdown",
   "metadata": {},
   "source": [
    "## Removing  Incomplete/Missing Entries From Frames/Tables <a id='missing'></a>"
   ]
  },
  {
   "cell_type": "code",
   "execution_count": 6,
   "metadata": {
    "collapsed": true
   },
   "outputs": [],
   "source": [
    "#Checks integerty of array of iterables based on a column\n",
    "def data_is_complete(arr, column):\n",
    "    if(len(arr)==0):\n",
    "        return False\n",
    "    else:\n",
    "        d = arr[0]\n",
    "        for x in arr:\n",
    "            if(not d[column].isin(x[column]).all()):\n",
    "                return False\n",
    "    return True"
   ]
  },
  {
   "cell_type": "markdown",
   "metadata": {},
   "source": [
    "Now we have a set of tables(dataframes) corresponding to the data we scraped from the different types of pages. Now it's time to check if there are any shows that have missing entries across the tables. The method above serves that purpose. 'title' is the unique identifier across all shows."
   ]
  },
  {
   "cell_type": "code",
   "execution_count": 7,
   "metadata": {
    "collapsed": false
   },
   "outputs": [
    {
     "name": "stdout",
     "output_type": "stream",
     "text": [
      "Data Is Complete Across All Tables by Title:  False\n"
     ]
    }
   ],
   "source": [
    "print(\"Data Is Complete Across All Tables by Title: \", data_is_complete([statsframe,listframe,pageframe,recommendationframe], \"title\"))"
   ]
  },
  {
   "cell_type": "markdown",
   "metadata": {},
   "source": [
    "As we can see the data is not consistent. Time to check what data we are missing. The cell bellow displays the size of each table, and then the number of titles missing from the ListEntries which is our source list. None of the other pages would have been scraped without out it. Note that a difference in size does not nessesarily have to equal the number of missing titles. Since they are equal (by looking below) this means there are no duplicates and we can be confident that we can remove the missing entries from List Entries without worries about consistency<br>"
   ]
  },
  {
   "cell_type": "code",
   "execution_count": 8,
   "metadata": {
    "collapsed": false
   },
   "outputs": [
    {
     "name": "stdout",
     "output_type": "stream",
     "text": [
      "# of ListEntries: 3830\n",
      "# of PageEntries (missing): 3818 (12)\n",
      "# of StatsEntries (missing): 3805 (25)\n",
      "# of RecommendationEntries (missing): (20)\n"
     ]
    }
   ],
   "source": [
    "#Printing out lengths, and number of entries missing from the initial list to guide clean up\n",
    "print(\"# of ListEntries:\", len(listframe))\n",
    "print(\"# of PageEntries (missing):\", len(pageframe),\"(\"+str(len(listframe)- len(pageframe))+\")\")\n",
    "print(\"# of StatsEntries (missing):\", len(statsdata_json),\"(\"+str(len(listdata_json)- len(statsframe))+\")\")\n",
    "print(\"# of RecommendationEntries (missing):\", \"(\"+str(len(listframe)- len(recommendationframe))+\")\")"
   ]
  },
  {
   "cell_type": "code",
   "execution_count": 9,
   "metadata": {
    "collapsed": false
   },
   "outputs": [],
   "source": [
    "missing_page = (listframe[~listframe.title.isin(pageframe.title)])\n",
    "missing_stats = (listframe[~listframe.title.isin(statsframe.title)])\n",
    "missing_recommendation = (listframe[~listframe.title.isin(recommendationframe.title)])"
   ]
  },
  {
   "cell_type": "code",
   "execution_count": 10,
   "metadata": {
    "collapsed": false
   },
   "outputs": [
    {
     "name": "stdout",
     "output_type": "stream",
     "text": [
      "# Missing from PageEntries: 12\n",
      "# Missing from StatsEntries: 25\n",
      "# Missing from RecommendationEntries: 20\n"
     ]
    }
   ],
   "source": [
    "#The missing number of page,stat,recommendation data corresponds the the numbers above. That means we don't have to worry about \n",
    "print('# Missing from PageEntries:', len(missing_page))\n",
    "print('# Missing from StatsEntries:', len(missing_stats))\n",
    "print('# Missing from RecommendationEntries:',len(missing_recommendation))"
   ]
  },
  {
   "cell_type": "code",
   "execution_count": 11,
   "metadata": {
    "collapsed": false,
    "scrolled": true
   },
   "outputs": [
    {
     "data": {
      "text/html": [
       "<div>\n",
       "<table border=\"1\" class=\"dataframe\">\n",
       "  <thead>\n",
       "    <tr style=\"text-align: right;\">\n",
       "      <th></th>\n",
       "      <th>episodes</th>\n",
       "      <th>link</th>\n",
       "      <th>members</th>\n",
       "      <th>pagetype</th>\n",
       "      <th>rank</th>\n",
       "      <th>score</th>\n",
       "      <th>title</th>\n",
       "    </tr>\n",
       "  </thead>\n",
       "  <tbody>\n",
       "    <tr>\n",
       "      <th>940</th>\n",
       "      <td>TV (13 eps)</td>\n",
       "      <td>https://myanimelist.net/anime/17080/Soukyuu_no...</td>\n",
       "      <td>12,182 members</td>\n",
       "      <td>ListEntry</td>\n",
       "      <td>941</td>\n",
       "      <td>7.44</td>\n",
       "      <td>Soukyuu no Fafner: Dead Aggressor - Exodus</td>\n",
       "    </tr>\n",
       "    <tr>\n",
       "      <th>961</th>\n",
       "      <td>TV (12 eps)</td>\n",
       "      <td>https://myanimelist.net/anime/31771/Amanchu</td>\n",
       "      <td>43,207 members</td>\n",
       "      <td>ListEntry</td>\n",
       "      <td>962</td>\n",
       "      <td>7.42</td>\n",
       "      <td>Amanchu!</td>\n",
       "    </tr>\n",
       "    <tr>\n",
       "      <th>965</th>\n",
       "      <td>TV (24 eps)</td>\n",
       "      <td>https://myanimelist.net/anime/10444/Digimon_Xr...</td>\n",
       "      <td>12,827 members</td>\n",
       "      <td>ListEntry</td>\n",
       "      <td>966</td>\n",
       "      <td>7.42</td>\n",
       "      <td>Digimon Xros Wars: Aku no Death General to Nan...</td>\n",
       "    </tr>\n",
       "    <tr>\n",
       "      <th>967</th>\n",
       "      <td>TV (12 eps)</td>\n",
       "      <td>https://myanimelist.net/anime/21681/Hanayamata</td>\n",
       "      <td>57,131 members</td>\n",
       "      <td>ListEntry</td>\n",
       "      <td>968</td>\n",
       "      <td>7.42</td>\n",
       "      <td>Hanayamata</td>\n",
       "    </tr>\n",
       "    <tr>\n",
       "      <th>971</th>\n",
       "      <td>TV (26 eps)</td>\n",
       "      <td>https://myanimelist.net/anime/335/Matantei_Lok...</td>\n",
       "      <td>25,450 members</td>\n",
       "      <td>ListEntry</td>\n",
       "      <td>972</td>\n",
       "      <td>7.42</td>\n",
       "      <td>Matantei Loki Ragnarok</td>\n",
       "    </tr>\n",
       "    <tr>\n",
       "      <th>985</th>\n",
       "      <td>TV (14 eps)</td>\n",
       "      <td>https://myanimelist.net/anime/147/Kimi_ga_Nozo...</td>\n",
       "      <td>91,721 members</td>\n",
       "      <td>ListEntry</td>\n",
       "      <td>986</td>\n",
       "      <td>7.41</td>\n",
       "      <td>Kimi ga Nozomu Eien</td>\n",
       "    </tr>\n",
       "    <tr>\n",
       "      <th>1048</th>\n",
       "      <td>TV (26 eps)</td>\n",
       "      <td>https://myanimelist.net/anime/411/Gun_x_Sword</td>\n",
       "      <td>46,499 members</td>\n",
       "      <td>ListEntry</td>\n",
       "      <td>1049</td>\n",
       "      <td>7.37</td>\n",
       "      <td>Gun x Sword</td>\n",
       "    </tr>\n",
       "    <tr>\n",
       "      <th>2718</th>\n",
       "      <td>TV (12 eps)</td>\n",
       "      <td>https://myanimelist.net/anime/1885/Master_of_E...</td>\n",
       "      <td>1,153 member</td>\n",
       "      <td>ListEntry</td>\n",
       "      <td>2719</td>\n",
       "      <td>6.24</td>\n",
       "      <td>Master of Epic: The Animation Age</td>\n",
       "    </tr>\n",
       "    <tr>\n",
       "      <th>2724</th>\n",
       "      <td>TV (53 eps)</td>\n",
       "      <td>https://myanimelist.net/anime/5287/Ippatsu_Kan...</td>\n",
       "      <td>318 members</td>\n",
       "      <td>ListEntry</td>\n",
       "      <td>2725</td>\n",
       "      <td>6.23</td>\n",
       "      <td>Ippatsu Kanta-kun</td>\n",
       "    </tr>\n",
       "    <tr>\n",
       "      <th>2780</th>\n",
       "      <td>TV (26 eps)</td>\n",
       "      <td>https://myanimelist.net/anime/2575/Don_Chuck_M...</td>\n",
       "      <td>429 members</td>\n",
       "      <td>ListEntry</td>\n",
       "      <td>2781</td>\n",
       "      <td>6.13</td>\n",
       "      <td>Don Chuck Monogatari</td>\n",
       "    </tr>\n",
       "    <tr>\n",
       "      <th>2816</th>\n",
       "      <td>TV (12 eps)</td>\n",
       "      <td>https://myanimelist.net/anime/31777/Neko_nanka...</td>\n",
       "      <td>695 members</td>\n",
       "      <td>ListEntry</td>\n",
       "      <td>2817</td>\n",
       "      <td>6.06</td>\n",
       "      <td>Neko nanka Yondemo Konai.</td>\n",
       "    </tr>\n",
       "    <tr>\n",
       "      <th>2938</th>\n",
       "      <td>TV (12 eps)</td>\n",
       "      <td>https://myanimelist.net/anime/33572/Idol_Memories</td>\n",
       "      <td>5,356 members</td>\n",
       "      <td>ListEntry</td>\n",
       "      <td>2939</td>\n",
       "      <td>5.64</td>\n",
       "      <td>Idol Memories</td>\n",
       "    </tr>\n",
       "    <tr>\n",
       "      <th>2941</th>\n",
       "      <td>TV (13 eps)</td>\n",
       "      <td>https://myanimelist.net/anime/31498/Pan_de_Peace</td>\n",
       "      <td>18,937 members</td>\n",
       "      <td>ListEntry</td>\n",
       "      <td>2942</td>\n",
       "      <td>5.62</td>\n",
       "      <td>Pan de Peace!</td>\n",
       "    </tr>\n",
       "  </tbody>\n",
       "</table>\n",
       "</div>"
      ],
      "text/plain": [
       "         episodes                                               link  \\\n",
       "940   TV (13 eps)  https://myanimelist.net/anime/17080/Soukyuu_no...   \n",
       "961   TV (12 eps)        https://myanimelist.net/anime/31771/Amanchu   \n",
       "965   TV (24 eps)  https://myanimelist.net/anime/10444/Digimon_Xr...   \n",
       "967   TV (12 eps)     https://myanimelist.net/anime/21681/Hanayamata   \n",
       "971   TV (26 eps)  https://myanimelist.net/anime/335/Matantei_Lok...   \n",
       "985   TV (14 eps)  https://myanimelist.net/anime/147/Kimi_ga_Nozo...   \n",
       "1048  TV (26 eps)      https://myanimelist.net/anime/411/Gun_x_Sword   \n",
       "2718  TV (12 eps)  https://myanimelist.net/anime/1885/Master_of_E...   \n",
       "2724  TV (53 eps)  https://myanimelist.net/anime/5287/Ippatsu_Kan...   \n",
       "2780  TV (26 eps)  https://myanimelist.net/anime/2575/Don_Chuck_M...   \n",
       "2816  TV (12 eps)  https://myanimelist.net/anime/31777/Neko_nanka...   \n",
       "2938  TV (12 eps)  https://myanimelist.net/anime/33572/Idol_Memories   \n",
       "2941  TV (13 eps)   https://myanimelist.net/anime/31498/Pan_de_Peace   \n",
       "\n",
       "             members   pagetype  rank score  \\\n",
       "940   12,182 members  ListEntry   941  7.44   \n",
       "961   43,207 members  ListEntry   962  7.42   \n",
       "965   12,827 members  ListEntry   966  7.42   \n",
       "967   57,131 members  ListEntry   968  7.42   \n",
       "971   25,450 members  ListEntry   972  7.42   \n",
       "985   91,721 members  ListEntry   986  7.41   \n",
       "1048  46,499 members  ListEntry  1049  7.37   \n",
       "2718    1,153 member  ListEntry  2719  6.24   \n",
       "2724     318 members  ListEntry  2725  6.23   \n",
       "2780     429 members  ListEntry  2781  6.13   \n",
       "2816     695 members  ListEntry  2817  6.06   \n",
       "2938   5,356 members  ListEntry  2939  5.64   \n",
       "2941  18,937 members  ListEntry  2942  5.62   \n",
       "\n",
       "                                                  title  \n",
       "940          Soukyuu no Fafner: Dead Aggressor - Exodus  \n",
       "961                                            Amanchu!  \n",
       "965   Digimon Xros Wars: Aku no Death General to Nan...  \n",
       "967                                          Hanayamata  \n",
       "971                              Matantei Loki Ragnarok  \n",
       "985                                 Kimi ga Nozomu Eien  \n",
       "1048                                        Gun x Sword  \n",
       "2718                  Master of Epic: The Animation Age  \n",
       "2724                                  Ippatsu Kanta-kun  \n",
       "2780                               Don Chuck Monogatari  \n",
       "2816                          Neko nanka Yondemo Konai.  \n",
       "2938                                      Idol Memories  \n",
       "2941                                      Pan de Peace!  "
      ]
     },
     "metadata": {},
     "output_type": "display_data"
    },
    {
     "data": {
      "text/html": [
       "<div>\n",
       "<table border=\"1\" class=\"dataframe\">\n",
       "  <thead>\n",
       "    <tr style=\"text-align: right;\">\n",
       "      <th></th>\n",
       "      <th>episodes</th>\n",
       "      <th>link</th>\n",
       "      <th>members</th>\n",
       "      <th>pagetype</th>\n",
       "      <th>rank</th>\n",
       "      <th>score</th>\n",
       "      <th>title</th>\n",
       "    </tr>\n",
       "  </thead>\n",
       "  <tbody>\n",
       "    <tr>\n",
       "      <th>935</th>\n",
       "      <td>TV (12 eps)</td>\n",
       "      <td>https://myanimelist.net/anime/14833/Maoyuu_Mao...</td>\n",
       "      <td>169,777 members</td>\n",
       "      <td>ListEntry</td>\n",
       "      <td>936</td>\n",
       "      <td>7.44</td>\n",
       "      <td>Maoyuu Maou Yuusha</td>\n",
       "    </tr>\n",
       "    <tr>\n",
       "      <th>944</th>\n",
       "      <td>TV (13 eps)</td>\n",
       "      <td>https://myanimelist.net/anime/20787/Black_Bullet</td>\n",
       "      <td>332,814 members</td>\n",
       "      <td>ListEntry</td>\n",
       "      <td>945</td>\n",
       "      <td>7.43</td>\n",
       "      <td>Black Bullet</td>\n",
       "    </tr>\n",
       "    <tr>\n",
       "      <th>945</th>\n",
       "      <td>TV (26 eps)</td>\n",
       "      <td>https://myanimelist.net/anime/653/Galaxy_Angel_3</td>\n",
       "      <td>6,307 members</td>\n",
       "      <td>ListEntry</td>\n",
       "      <td>946</td>\n",
       "      <td>7.43</td>\n",
       "      <td>Galaxy Angel 3</td>\n",
       "    </tr>\n",
       "    <tr>\n",
       "      <th>977</th>\n",
       "      <td>TV (5 eps)</td>\n",
       "      <td>https://myanimelist.net/anime/1292/Afro_Samurai</td>\n",
       "      <td>138,989 members</td>\n",
       "      <td>ListEntry</td>\n",
       "      <td>978</td>\n",
       "      <td>7.41</td>\n",
       "      <td>Afro Samurai</td>\n",
       "    </tr>\n",
       "    <tr>\n",
       "      <th>981</th>\n",
       "      <td>TV (24 eps)</td>\n",
       "      <td>https://myanimelist.net/anime/287/Grappler_Bak...</td>\n",
       "      <td>23,755 members</td>\n",
       "      <td>ListEntry</td>\n",
       "      <td>982</td>\n",
       "      <td>7.41</td>\n",
       "      <td>Grappler Baki (TV)</td>\n",
       "    </tr>\n",
       "    <tr>\n",
       "      <th>2760</th>\n",
       "      <td>TV (12 eps)</td>\n",
       "      <td>https://myanimelist.net/anime/624/Mouse</td>\n",
       "      <td>11,161 members</td>\n",
       "      <td>ListEntry</td>\n",
       "      <td>2761</td>\n",
       "      <td>6.17</td>\n",
       "      <td>Mouse</td>\n",
       "    </tr>\n",
       "    <tr>\n",
       "      <th>2765</th>\n",
       "      <td>TV (12 eps)</td>\n",
       "      <td>https://myanimelist.net/anime/32171/Ange_Vierge</td>\n",
       "      <td>23,206 members</td>\n",
       "      <td>ListEntry</td>\n",
       "      <td>2766</td>\n",
       "      <td>6.16</td>\n",
       "      <td>Ange Vierge</td>\n",
       "    </tr>\n",
       "    <tr>\n",
       "      <th>2778</th>\n",
       "      <td>TV (13 eps)</td>\n",
       "      <td>https://myanimelist.net/anime/30851/Q_Transfor...</td>\n",
       "      <td>222 members</td>\n",
       "      <td>ListEntry</td>\n",
       "      <td>2779</td>\n",
       "      <td>6.14</td>\n",
       "      <td>Q Transformers: Saranaru Ninki Mono e no Michi</td>\n",
       "    </tr>\n",
       "  </tbody>\n",
       "</table>\n",
       "</div>"
      ],
      "text/plain": [
       "         episodes                                               link  \\\n",
       "935   TV (12 eps)  https://myanimelist.net/anime/14833/Maoyuu_Mao...   \n",
       "944   TV (13 eps)   https://myanimelist.net/anime/20787/Black_Bullet   \n",
       "945   TV (26 eps)   https://myanimelist.net/anime/653/Galaxy_Angel_3   \n",
       "977    TV (5 eps)    https://myanimelist.net/anime/1292/Afro_Samurai   \n",
       "981   TV (24 eps)  https://myanimelist.net/anime/287/Grappler_Bak...   \n",
       "2760  TV (12 eps)            https://myanimelist.net/anime/624/Mouse   \n",
       "2765  TV (12 eps)    https://myanimelist.net/anime/32171/Ange_Vierge   \n",
       "2778  TV (13 eps)  https://myanimelist.net/anime/30851/Q_Transfor...   \n",
       "\n",
       "              members   pagetype  rank score  \\\n",
       "935   169,777 members  ListEntry   936  7.44   \n",
       "944   332,814 members  ListEntry   945  7.43   \n",
       "945     6,307 members  ListEntry   946  7.43   \n",
       "977   138,989 members  ListEntry   978  7.41   \n",
       "981    23,755 members  ListEntry   982  7.41   \n",
       "2760   11,161 members  ListEntry  2761  6.17   \n",
       "2765   23,206 members  ListEntry  2766  6.16   \n",
       "2778      222 members  ListEntry  2779  6.14   \n",
       "\n",
       "                                               title  \n",
       "935                               Maoyuu Maou Yuusha  \n",
       "944                                     Black Bullet  \n",
       "945                                   Galaxy Angel 3  \n",
       "977                                     Afro Samurai  \n",
       "981                               Grappler Baki (TV)  \n",
       "2760                                           Mouse  \n",
       "2765                                     Ange Vierge  \n",
       "2778  Q Transformers: Saranaru Ninki Mono e no Michi  "
      ]
     },
     "metadata": {},
     "output_type": "display_data"
    }
   ],
   "source": [
    "display(missing_stats[~missing_stats.title.isin(missing_recommendation.title)])\n",
    "display(missing_recommendation[~missing_recommendation.title.isin(missing_page.title)])"
   ]
  },
  {
   "cell_type": "code",
   "execution_count": 12,
   "metadata": {
    "collapsed": false
   },
   "outputs": [],
   "source": [
    "titles_to_remove = set(missing_stats.title.append(missing_page.title).append(missing_recommendation.title))"
   ]
  },
  {
   "cell_type": "code",
   "execution_count": 13,
   "metadata": {
    "collapsed": false
   },
   "outputs": [
    {
     "name": "stdout",
     "output_type": "stream",
     "text": [
      "Titles with Incomplete Data:\n",
      "\n",
      "{'Mouse', 'Idol Memories', 'Digimon Xros Wars: Aku no Death General to Nanatsu no Oukoku', 'Amanchu!', 'Black Bullet', 'Hanayamata', 'Galaxy Angel 3', 'Jinki:Extend', 'Soukyuu no Fafner: Dead Aggressor - Exodus', 'Naked Wolves', 'Don Chuck Monogatari', 'Tari Tari', 'Mahou Shoujo Nante Mou Ii Desukara. 2nd Season', 'Gun x Sword', 'Cheating Craft', 'Master of Epic: The Animation Age', 'Ippatsu Kanta-kun', 'Manga Sekai Mukashibanashi', 'Q Transformers: Saranaru Ninki Mono e no Michi', 'Nabari no Ou', 'Ai Yori Aoshi: Enishi', 'Matantei Loki Ragnarok', 'Neko nanka Yondemo Konai.', 'Pan de Peace!', 'Mahoutsukai Chappy', 'Maoyuu Maou Yuusha', 'Kimi ga Nozomu Eien', 'Ayashi no Ceres', 'Grappler Baki (TV)', 'Ange Vierge', 'Afro Samurai', 'Mori no Tonto-tachi', 'D.C.II S.S.: Da Capo II Second Season'}\n"
     ]
    }
   ],
   "source": [
    "print('Titles with Incomplete Data:\\n')\n",
    "print(titles_to_remove)"
   ]
  },
  {
   "cell_type": "code",
   "execution_count": 14,
   "metadata": {
    "collapsed": true
   },
   "outputs": [],
   "source": [
    "#Removing the titles from our frames\n",
    "listframe = listframe[~listframe.title.isin(titles_to_remove)]\n",
    "pageframe = pageframe[~pageframe.title.isin(titles_to_remove)]\n",
    "statsframe = statsframe[~statsframe.title.isin(titles_to_remove)]\n",
    "recommendationframe = recommendationframe[~recommendationframe.title.isin(titles_to_remove)]"
   ]
  },
  {
   "cell_type": "code",
   "execution_count": 15,
   "metadata": {
    "collapsed": false
   },
   "outputs": [
    {
     "name": "stdout",
     "output_type": "stream",
     "text": [
      "Data Is Complete Across All Tables by Title:  True\n"
     ]
    }
   ],
   "source": [
    "print(\"Data Is Complete Across All Tables by Title: \",data_is_complete([statsframe,listframe,pageframe,recommendationframe], \"title\"))"
   ]
  },
  {
   "cell_type": "markdown",
   "metadata": {},
   "source": [
    "<a id ='cleaning'></a>"
   ]
  },
  {
   "cell_type": "markdown",
   "metadata": {},
   "source": [
    "## Cleaning Data Tables"
   ]
  },
  {
   "cell_type": "markdown",
   "metadata": {},
   "source": [
    "Now that we got rid of the missing anime titles, its time to clean the data across and hopefully reduce the total number of tables to make analysis easier."
   ]
  },
  {
   "cell_type": "code",
   "execution_count": 16,
   "metadata": {
    "collapsed": false
   },
   "outputs": [
    {
     "data": {
      "text/html": [
       "<div>\n",
       "<table border=\"1\" class=\"dataframe\">\n",
       "  <thead>\n",
       "    <tr style=\"text-align: right;\">\n",
       "      <th></th>\n",
       "      <th>episodes</th>\n",
       "      <th>link</th>\n",
       "      <th>members</th>\n",
       "      <th>pagetype</th>\n",
       "      <th>rank</th>\n",
       "      <th>score</th>\n",
       "      <th>title</th>\n",
       "    </tr>\n",
       "  </thead>\n",
       "  <tbody>\n",
       "  </tbody>\n",
       "</table>\n",
       "</div>"
      ],
      "text/plain": [
       "Empty DataFrame\n",
       "Columns: [episodes, link, members, pagetype, rank, score, title]\n",
       "Index: []"
      ]
     },
     "metadata": {},
     "output_type": "display_data"
    },
    {
     "data": {
      "text/html": [
       "<div>\n",
       "<table border=\"1\" class=\"dataframe\">\n",
       "  <thead>\n",
       "    <tr style=\"text-align: right;\">\n",
       "      <th></th>\n",
       "      <th>aired</th>\n",
       "      <th>episodes</th>\n",
       "      <th>genres</th>\n",
       "      <th>pagetype</th>\n",
       "      <th>producers</th>\n",
       "      <th>recommendationlink</th>\n",
       "      <th>score</th>\n",
       "      <th>statslink</th>\n",
       "      <th>status</th>\n",
       "      <th>streamtype</th>\n",
       "      <th>studios</th>\n",
       "      <th>title</th>\n",
       "    </tr>\n",
       "  </thead>\n",
       "  <tbody>\n",
       "  </tbody>\n",
       "</table>\n",
       "</div>"
      ],
      "text/plain": [
       "Empty DataFrame\n",
       "Columns: [aired, episodes, genres, pagetype, producers, recommendationlink, score, statslink, status, streamtype, studios, title]\n",
       "Index: []"
      ]
     },
     "metadata": {},
     "output_type": "display_data"
    },
    {
     "data": {
      "text/html": [
       "<div>\n",
       "<table border=\"1\" class=\"dataframe\">\n",
       "  <thead>\n",
       "    <tr style=\"text-align: right;\">\n",
       "      <th></th>\n",
       "      <th>pagetype</th>\n",
       "      <th>score1</th>\n",
       "      <th>score10</th>\n",
       "      <th>score2</th>\n",
       "      <th>score3</th>\n",
       "      <th>score4</th>\n",
       "      <th>score5</th>\n",
       "      <th>score6</th>\n",
       "      <th>score7</th>\n",
       "      <th>score8</th>\n",
       "      <th>score9</th>\n",
       "      <th>title</th>\n",
       "    </tr>\n",
       "  </thead>\n",
       "  <tbody>\n",
       "  </tbody>\n",
       "</table>\n",
       "</div>"
      ],
      "text/plain": [
       "Empty DataFrame\n",
       "Columns: [pagetype, score1, score10, score2, score3, score4, score5, score6, score7, score8, score9, title]\n",
       "Index: []"
      ]
     },
     "metadata": {},
     "output_type": "display_data"
    },
    {
     "data": {
      "text/html": [
       "<div>\n",
       "<table border=\"1\" class=\"dataframe\">\n",
       "  <thead>\n",
       "    <tr style=\"text-align: right;\">\n",
       "      <th></th>\n",
       "      <th>pagetype</th>\n",
       "      <th>recommendations</th>\n",
       "      <th>title</th>\n",
       "    </tr>\n",
       "  </thead>\n",
       "  <tbody>\n",
       "  </tbody>\n",
       "</table>\n",
       "</div>"
      ],
      "text/plain": [
       "Empty DataFrame\n",
       "Columns: [pagetype, recommendations, title]\n",
       "Index: []"
      ]
     },
     "metadata": {},
     "output_type": "display_data"
    }
   ],
   "source": [
    "#Displays columns for each table\n",
    "display(listframe.head(0))\n",
    "display(pageframe.head(0))\n",
    "display(statsframe.head(0))\n",
    "display(recommendationframe.head(0))"
   ]
  },
  {
   "cell_type": "markdown",
   "metadata": {},
   "source": [
    "#### Cleaning List Frame"
   ]
  },
  {
   "cell_type": "code",
   "execution_count": 17,
   "metadata": {
    "collapsed": false
   },
   "outputs": [
    {
     "data": {
      "text/html": [
       "<div>\n",
       "<table border=\"1\" class=\"dataframe\">\n",
       "  <thead>\n",
       "    <tr style=\"text-align: right;\">\n",
       "      <th></th>\n",
       "      <th>episodes</th>\n",
       "      <th>link</th>\n",
       "      <th>members</th>\n",
       "      <th>pagetype</th>\n",
       "      <th>rank</th>\n",
       "      <th>score</th>\n",
       "      <th>title</th>\n",
       "    </tr>\n",
       "  </thead>\n",
       "  <tbody>\n",
       "    <tr>\n",
       "      <th>0</th>\n",
       "      <td>TV (64 eps)</td>\n",
       "      <td>https://myanimelist.net/anime/5114/Fullmetal_A...</td>\n",
       "      <td>824,466 members</td>\n",
       "      <td>ListEntry</td>\n",
       "      <td>1</td>\n",
       "      <td>9.26</td>\n",
       "      <td>Fullmetal Alchemist: Brotherhood</td>\n",
       "    </tr>\n",
       "    <tr>\n",
       "      <th>1</th>\n",
       "      <td>TV (51 eps)</td>\n",
       "      <td>https://myanimelist.net/anime/28977/Gintama°</td>\n",
       "      <td>121,675 members</td>\n",
       "      <td>ListEntry</td>\n",
       "      <td>2</td>\n",
       "      <td>9.25</td>\n",
       "      <td>Gintama°</td>\n",
       "    </tr>\n",
       "    <tr>\n",
       "      <th>2</th>\n",
       "      <td>TV (? eps)</td>\n",
       "      <td>https://myanimelist.net/anime/34096/Gintama</td>\n",
       "      <td>32,296 members</td>\n",
       "      <td>ListEntry</td>\n",
       "      <td>3</td>\n",
       "      <td>9.17</td>\n",
       "      <td>Gintama.</td>\n",
       "    </tr>\n",
       "    <tr>\n",
       "      <th>3</th>\n",
       "      <td>TV (24 eps)</td>\n",
       "      <td>https://myanimelist.net/anime/9253/Steins_Gate</td>\n",
       "      <td>702,136 members</td>\n",
       "      <td>ListEntry</td>\n",
       "      <td>4</td>\n",
       "      <td>9.17</td>\n",
       "      <td>Steins;Gate</td>\n",
       "    </tr>\n",
       "    <tr>\n",
       "      <th>4</th>\n",
       "      <td>TV (51 eps)</td>\n",
       "      <td>https://myanimelist.net/anime/9969/Gintama</td>\n",
       "      <td>156,924 members</td>\n",
       "      <td>ListEntry</td>\n",
       "      <td>5</td>\n",
       "      <td>9.16</td>\n",
       "      <td>Gintama'</td>\n",
       "    </tr>\n",
       "  </tbody>\n",
       "</table>\n",
       "</div>"
      ],
      "text/plain": [
       "      episodes                                               link  \\\n",
       "0  TV (64 eps)  https://myanimelist.net/anime/5114/Fullmetal_A...   \n",
       "1  TV (51 eps)       https://myanimelist.net/anime/28977/Gintama°   \n",
       "2   TV (? eps)        https://myanimelist.net/anime/34096/Gintama   \n",
       "3  TV (24 eps)     https://myanimelist.net/anime/9253/Steins_Gate   \n",
       "4  TV (51 eps)         https://myanimelist.net/anime/9969/Gintama   \n",
       "\n",
       "           members   pagetype rank score                             title  \n",
       "0  824,466 members  ListEntry    1  9.26  Fullmetal Alchemist: Brotherhood  \n",
       "1  121,675 members  ListEntry    2  9.25                          Gintama°  \n",
       "2   32,296 members  ListEntry    3  9.17                          Gintama.  \n",
       "3  702,136 members  ListEntry    4  9.17                       Steins;Gate  \n",
       "4  156,924 members  ListEntry    5  9.16                          Gintama'  "
      ]
     },
     "execution_count": 17,
     "metadata": {},
     "output_type": "execute_result"
    }
   ],
   "source": [
    "listframe.head()"
   ]
  },
  {
   "cell_type": "code",
   "execution_count": 18,
   "metadata": {
    "collapsed": false
   },
   "outputs": [],
   "source": [
    "listframe =listframe.rename(index = str, columns={'rank':'ranking'}) #rank is an inherit method of dataframes so we're renaming it\n",
    "listframe.ranking = listframe.ranking.apply(lambda x : int(x) if x.isdigit() else None)\n",
    "listframe.members = listframe.members.str.replace(' member','').str.replace('s','').str.replace(',','').astype(int)"
   ]
  },
  {
   "cell_type": "code",
   "execution_count": 19,
   "metadata": {
    "collapsed": false
   },
   "outputs": [
    {
     "data": {
      "text/html": [
       "<div>\n",
       "<table border=\"1\" class=\"dataframe\">\n",
       "  <thead>\n",
       "    <tr style=\"text-align: right;\">\n",
       "      <th></th>\n",
       "      <th>episodes</th>\n",
       "      <th>link</th>\n",
       "      <th>members</th>\n",
       "      <th>pagetype</th>\n",
       "      <th>ranking</th>\n",
       "      <th>score</th>\n",
       "      <th>title</th>\n",
       "    </tr>\n",
       "  </thead>\n",
       "  <tbody>\n",
       "    <tr>\n",
       "      <th>0</th>\n",
       "      <td>TV (64 eps)</td>\n",
       "      <td>https://myanimelist.net/anime/5114/Fullmetal_A...</td>\n",
       "      <td>824466</td>\n",
       "      <td>ListEntry</td>\n",
       "      <td>1.0</td>\n",
       "      <td>9.26</td>\n",
       "      <td>Fullmetal Alchemist: Brotherhood</td>\n",
       "    </tr>\n",
       "    <tr>\n",
       "      <th>1</th>\n",
       "      <td>TV (51 eps)</td>\n",
       "      <td>https://myanimelist.net/anime/28977/Gintama°</td>\n",
       "      <td>121675</td>\n",
       "      <td>ListEntry</td>\n",
       "      <td>2.0</td>\n",
       "      <td>9.25</td>\n",
       "      <td>Gintama°</td>\n",
       "    </tr>\n",
       "    <tr>\n",
       "      <th>2</th>\n",
       "      <td>TV (? eps)</td>\n",
       "      <td>https://myanimelist.net/anime/34096/Gintama</td>\n",
       "      <td>32296</td>\n",
       "      <td>ListEntry</td>\n",
       "      <td>3.0</td>\n",
       "      <td>9.17</td>\n",
       "      <td>Gintama.</td>\n",
       "    </tr>\n",
       "    <tr>\n",
       "      <th>3</th>\n",
       "      <td>TV (24 eps)</td>\n",
       "      <td>https://myanimelist.net/anime/9253/Steins_Gate</td>\n",
       "      <td>702136</td>\n",
       "      <td>ListEntry</td>\n",
       "      <td>4.0</td>\n",
       "      <td>9.17</td>\n",
       "      <td>Steins;Gate</td>\n",
       "    </tr>\n",
       "    <tr>\n",
       "      <th>4</th>\n",
       "      <td>TV (51 eps)</td>\n",
       "      <td>https://myanimelist.net/anime/9969/Gintama</td>\n",
       "      <td>156924</td>\n",
       "      <td>ListEntry</td>\n",
       "      <td>5.0</td>\n",
       "      <td>9.16</td>\n",
       "      <td>Gintama'</td>\n",
       "    </tr>\n",
       "  </tbody>\n",
       "</table>\n",
       "</div>"
      ],
      "text/plain": [
       "      episodes                                               link  members  \\\n",
       "0  TV (64 eps)  https://myanimelist.net/anime/5114/Fullmetal_A...   824466   \n",
       "1  TV (51 eps)       https://myanimelist.net/anime/28977/Gintama°   121675   \n",
       "2   TV (? eps)        https://myanimelist.net/anime/34096/Gintama    32296   \n",
       "3  TV (24 eps)     https://myanimelist.net/anime/9253/Steins_Gate   702136   \n",
       "4  TV (51 eps)         https://myanimelist.net/anime/9969/Gintama   156924   \n",
       "\n",
       "    pagetype  ranking score                             title  \n",
       "0  ListEntry      1.0  9.26  Fullmetal Alchemist: Brotherhood  \n",
       "1  ListEntry      2.0  9.25                          Gintama°  \n",
       "2  ListEntry      3.0  9.17                          Gintama.  \n",
       "3  ListEntry      4.0  9.17                       Steins;Gate  \n",
       "4  ListEntry      5.0  9.16                          Gintama'  "
      ]
     },
     "execution_count": 19,
     "metadata": {},
     "output_type": "execute_result"
    }
   ],
   "source": [
    "listframe.head()"
   ]
  },
  {
   "cell_type": "code",
   "execution_count": 20,
   "metadata": {
    "collapsed": false
   },
   "outputs": [],
   "source": [
    "def is_number(s):\n",
    "    try:\n",
    "        float(s)\n",
    "        return True\n",
    "    except ValueError:\n",
    "        return False\n",
    "new_episodes = listframe.episodes.str.replace('TV','').str.replace('(','').str.replace(')','').str.replace('eps','')\n",
    "new_episodes = new_episodes.apply(lambda x : int(x) if x.strip().isdigit() else None)\n",
    "listframe.episodes = new_episodes\n",
    "listframe.score = listframe.score.apply(lambda x : float(x) if is_number(x.strip()) else None)"
   ]
  },
  {
   "cell_type": "code",
   "execution_count": 21,
   "metadata": {
    "collapsed": false
   },
   "outputs": [
    {
     "data": {
      "text/html": [
       "<div>\n",
       "<table border=\"1\" class=\"dataframe\">\n",
       "  <thead>\n",
       "    <tr style=\"text-align: right;\">\n",
       "      <th></th>\n",
       "      <th>title</th>\n",
       "      <th>ranking</th>\n",
       "      <th>score</th>\n",
       "      <th>members</th>\n",
       "      <th>episodes</th>\n",
       "      <th>link</th>\n",
       "    </tr>\n",
       "  </thead>\n",
       "  <tbody>\n",
       "    <tr>\n",
       "      <th>0</th>\n",
       "      <td>Fullmetal Alchemist: Brotherhood</td>\n",
       "      <td>1.0</td>\n",
       "      <td>9.26</td>\n",
       "      <td>824466</td>\n",
       "      <td>64.0</td>\n",
       "      <td>https://myanimelist.net/anime/5114/Fullmetal_A...</td>\n",
       "    </tr>\n",
       "    <tr>\n",
       "      <th>1</th>\n",
       "      <td>Gintama°</td>\n",
       "      <td>2.0</td>\n",
       "      <td>9.25</td>\n",
       "      <td>121675</td>\n",
       "      <td>51.0</td>\n",
       "      <td>https://myanimelist.net/anime/28977/Gintama°</td>\n",
       "    </tr>\n",
       "    <tr>\n",
       "      <th>2</th>\n",
       "      <td>Gintama.</td>\n",
       "      <td>3.0</td>\n",
       "      <td>9.17</td>\n",
       "      <td>32296</td>\n",
       "      <td>NaN</td>\n",
       "      <td>https://myanimelist.net/anime/34096/Gintama</td>\n",
       "    </tr>\n",
       "    <tr>\n",
       "      <th>3</th>\n",
       "      <td>Steins;Gate</td>\n",
       "      <td>4.0</td>\n",
       "      <td>9.17</td>\n",
       "      <td>702136</td>\n",
       "      <td>24.0</td>\n",
       "      <td>https://myanimelist.net/anime/9253/Steins_Gate</td>\n",
       "    </tr>\n",
       "    <tr>\n",
       "      <th>4</th>\n",
       "      <td>Gintama'</td>\n",
       "      <td>5.0</td>\n",
       "      <td>9.16</td>\n",
       "      <td>156924</td>\n",
       "      <td>51.0</td>\n",
       "      <td>https://myanimelist.net/anime/9969/Gintama</td>\n",
       "    </tr>\n",
       "  </tbody>\n",
       "</table>\n",
       "</div>"
      ],
      "text/plain": [
       "                              title  ranking  score  members  episodes  \\\n",
       "0  Fullmetal Alchemist: Brotherhood      1.0   9.26   824466      64.0   \n",
       "1                          Gintama°      2.0   9.25   121675      51.0   \n",
       "2                          Gintama.      3.0   9.17    32296       NaN   \n",
       "3                       Steins;Gate      4.0   9.17   702136      24.0   \n",
       "4                          Gintama'      5.0   9.16   156924      51.0   \n",
       "\n",
       "                                                link  \n",
       "0  https://myanimelist.net/anime/5114/Fullmetal_A...  \n",
       "1       https://myanimelist.net/anime/28977/Gintama°  \n",
       "2        https://myanimelist.net/anime/34096/Gintama  \n",
       "3     https://myanimelist.net/anime/9253/Steins_Gate  \n",
       "4         https://myanimelist.net/anime/9969/Gintama  "
      ]
     },
     "metadata": {},
     "output_type": "display_data"
    }
   ],
   "source": [
    "listframe = listframe[['title','ranking','score','members','episodes','link']] #Rearrange columns and remove pagetype\n",
    "display(listframe.head())"
   ]
  },
  {
   "cell_type": "markdown",
   "metadata": {},
   "source": [
    "#### Cleaning Recommendation Frame"
   ]
  },
  {
   "cell_type": "code",
   "execution_count": 22,
   "metadata": {
    "collapsed": false
   },
   "outputs": [
    {
     "data": {
      "text/html": [
       "<div>\n",
       "<table border=\"1\" class=\"dataframe\">\n",
       "  <thead>\n",
       "    <tr style=\"text-align: right;\">\n",
       "      <th></th>\n",
       "      <th>pagetype</th>\n",
       "      <th>recommendations</th>\n",
       "      <th>title</th>\n",
       "    </tr>\n",
       "  </thead>\n",
       "  <tbody>\n",
       "    <tr>\n",
       "      <th>0</th>\n",
       "      <td>RecommendationEntry</td>\n",
       "      <td>{'Noragami': '0', 'SKET Dance': '0', 'Sakigake...</td>\n",
       "      <td>Gintama': Enchousen</td>\n",
       "    </tr>\n",
       "    <tr>\n",
       "      <th>1</th>\n",
       "      <td>RecommendationEntry</td>\n",
       "      <td>{'MÄR': '0', 'Chihayafuru': '0', 'Naruto': '17...</td>\n",
       "      <td>Hunter x Hunter (2011)</td>\n",
       "    </tr>\n",
       "    <tr>\n",
       "      <th>2</th>\n",
       "      <td>RecommendationEntry</td>\n",
       "      <td>{'Monogatari Series: Second Season': '0', 'Roz...</td>\n",
       "      <td>Steins;Gate</td>\n",
       "    </tr>\n",
       "    <tr>\n",
       "      <th>3</th>\n",
       "      <td>RecommendationEntry</td>\n",
       "      <td>{}</td>\n",
       "      <td>Gintama.</td>\n",
       "    </tr>\n",
       "    <tr>\n",
       "      <th>4</th>\n",
       "      <td>RecommendationEntry</td>\n",
       "      <td>{'Baka to Test to Shoukanjuu': '1', 'Trigun': ...</td>\n",
       "      <td>Gintama°</td>\n",
       "    </tr>\n",
       "  </tbody>\n",
       "</table>\n",
       "</div>"
      ],
      "text/plain": [
       "              pagetype                                    recommendations  \\\n",
       "0  RecommendationEntry  {'Noragami': '0', 'SKET Dance': '0', 'Sakigake...   \n",
       "1  RecommendationEntry  {'MÄR': '0', 'Chihayafuru': '0', 'Naruto': '17...   \n",
       "2  RecommendationEntry  {'Monogatari Series: Second Season': '0', 'Roz...   \n",
       "3  RecommendationEntry                                                 {}   \n",
       "4  RecommendationEntry  {'Baka to Test to Shoukanjuu': '1', 'Trigun': ...   \n",
       "\n",
       "                    title  \n",
       "0     Gintama': Enchousen  \n",
       "1  Hunter x Hunter (2011)  \n",
       "2             Steins;Gate  \n",
       "3                Gintama.  \n",
       "4                Gintama°  "
      ]
     },
     "metadata": {},
     "output_type": "display_data"
    }
   ],
   "source": [
    "display(recommendationframe.head())"
   ]
  },
  {
   "cell_type": "markdown",
   "metadata": {},
   "source": [
    "Change the values in recommendations dictionaries from a string to an integer of <b>recommendationsframe</b>"
   ]
  },
  {
   "cell_type": "code",
   "execution_count": 23,
   "metadata": {
    "collapsed": false
   },
   "outputs": [],
   "source": [
    "for index, row in recommendationframe.iterrows():\n",
    "    for key, value in row['recommendations'].items():\n",
    "        row['recommendations'][key] = int(value)"
   ]
  },
  {
   "cell_type": "code",
   "execution_count": 24,
   "metadata": {
    "collapsed": true
   },
   "outputs": [],
   "source": [
    "recommendationframe = recommendationframe[['title','recommendations']] #Rearrange columns and remove pagetype"
   ]
  },
  {
   "cell_type": "code",
   "execution_count": 25,
   "metadata": {
    "collapsed": false
   },
   "outputs": [
    {
     "data": {
      "text/html": [
       "<div>\n",
       "<table border=\"1\" class=\"dataframe\">\n",
       "  <thead>\n",
       "    <tr style=\"text-align: right;\">\n",
       "      <th></th>\n",
       "      <th>title</th>\n",
       "      <th>recommendations</th>\n",
       "    </tr>\n",
       "  </thead>\n",
       "  <tbody>\n",
       "    <tr>\n",
       "      <th>0</th>\n",
       "      <td>Gintama': Enchousen</td>\n",
       "      <td>{'Noragami': 0, 'SKET Dance': 0, 'Sakigake!! C...</td>\n",
       "    </tr>\n",
       "    <tr>\n",
       "      <th>1</th>\n",
       "      <td>Hunter x Hunter (2011)</td>\n",
       "      <td>{'MÄR': 0, 'Chihayafuru': 0, 'Naruto': 17, 'Dr...</td>\n",
       "    </tr>\n",
       "    <tr>\n",
       "      <th>2</th>\n",
       "      <td>Steins;Gate</td>\n",
       "      <td>{'Monogatari Series: Second Season': 0, 'Rozen...</td>\n",
       "    </tr>\n",
       "    <tr>\n",
       "      <th>3</th>\n",
       "      <td>Gintama.</td>\n",
       "      <td>{}</td>\n",
       "    </tr>\n",
       "    <tr>\n",
       "      <th>4</th>\n",
       "      <td>Gintama°</td>\n",
       "      <td>{'Baka to Test to Shoukanjuu': 1, 'Trigun': 0,...</td>\n",
       "    </tr>\n",
       "  </tbody>\n",
       "</table>\n",
       "</div>"
      ],
      "text/plain": [
       "                    title                                    recommendations\n",
       "0     Gintama': Enchousen  {'Noragami': 0, 'SKET Dance': 0, 'Sakigake!! C...\n",
       "1  Hunter x Hunter (2011)  {'MÄR': 0, 'Chihayafuru': 0, 'Naruto': 17, 'Dr...\n",
       "2             Steins;Gate  {'Monogatari Series: Second Season': 0, 'Rozen...\n",
       "3                Gintama.                                                 {}\n",
       "4                Gintama°  {'Baka to Test to Shoukanjuu': 1, 'Trigun': 0,..."
      ]
     },
     "metadata": {},
     "output_type": "display_data"
    }
   ],
   "source": [
    "display(recommendationframe.head())"
   ]
  },
  {
   "cell_type": "markdown",
   "metadata": {},
   "source": [
    "#### Cleaning Page Frame\n",
    "Here is how the elements of our frame look initially, we need to remove the unessecarry html tags, and turn studios, producers and genres into a list"
   ]
  },
  {
   "cell_type": "code",
   "execution_count": 26,
   "metadata": {
    "collapsed": false
   },
   "outputs": [
    {
     "data": {
      "text/html": [
       "<div>\n",
       "<table border=\"1\" class=\"dataframe\">\n",
       "  <thead>\n",
       "    <tr style=\"text-align: right;\">\n",
       "      <th></th>\n",
       "      <th>aired</th>\n",
       "      <th>episodes</th>\n",
       "      <th>genres</th>\n",
       "      <th>pagetype</th>\n",
       "      <th>producers</th>\n",
       "      <th>recommendationlink</th>\n",
       "      <th>score</th>\n",
       "      <th>statslink</th>\n",
       "      <th>status</th>\n",
       "      <th>streamtype</th>\n",
       "      <th>studios</th>\n",
       "      <th>title</th>\n",
       "    </tr>\n",
       "  </thead>\n",
       "  <tbody>\n",
       "    <tr>\n",
       "      <th>0</th>\n",
       "      <td>Oct 4, 2012 to Mar 28, 2013</td>\n",
       "      <td>13</td>\n",
       "      <td>&lt;a href=\"/anime/genre/1/Action\" title=\"Action\"...</td>\n",
       "      <td>PageEntry</td>\n",
       "      <td>&lt;a href=\"/anime/producer/16/TV_Tokyo\" title=\"T...</td>\n",
       "      <td>https://myanimelist.net/anime/15417/Gintama__E...</td>\n",
       "      <td>&lt;span itemprop=\"ratingValue\"&gt;9.10&lt;/span&gt;&lt;sup&gt;1...</td>\n",
       "      <td>https://myanimelist.net/anime/15417/Gintama__E...</td>\n",
       "      <td>Finished Airing</td>\n",
       "      <td>&lt;a href=\"https://myanimelist.net/topanime.php?...</td>\n",
       "      <td>&lt;a href=\"/anime/producer/14/Sunrise\" title=\"Su...</td>\n",
       "      <td>Gintama': Enchousen</td>\n",
       "    </tr>\n",
       "    <tr>\n",
       "      <th>1</th>\n",
       "      <td>Apr 4, 2011 to Mar 26, 2012</td>\n",
       "      <td>51</td>\n",
       "      <td>&lt;a href=\"/anime/genre/1/Action\" title=\"Action\"...</td>\n",
       "      <td>PageEntry</td>\n",
       "      <td>&lt;a href=\"/anime/producer/16/TV_Tokyo\" title=\"T...</td>\n",
       "      <td>https://myanimelist.net/anime/9969/Gintama/use...</td>\n",
       "      <td>&lt;span itemprop=\"ratingValue\"&gt;9.16&lt;/span&gt;&lt;sup&gt;1...</td>\n",
       "      <td>https://myanimelist.net/anime/9969/Gintama/stats</td>\n",
       "      <td>Finished Airing</td>\n",
       "      <td>&lt;a href=\"https://myanimelist.net/topanime.php?...</td>\n",
       "      <td>&lt;a href=\"/anime/producer/14/Sunrise\" title=\"Su...</td>\n",
       "      <td>Gintama'</td>\n",
       "    </tr>\n",
       "    <tr>\n",
       "      <th>2</th>\n",
       "      <td>Oct 2, 2011 to Sep 24, 2014</td>\n",
       "      <td>148</td>\n",
       "      <td>&lt;a href=\"/anime/genre/1/Action\" title=\"Action\"...</td>\n",
       "      <td>PageEntry</td>\n",
       "      <td>&lt;a href=\"/anime/producer/29/VAP\" title=\"VAP\"&gt;V...</td>\n",
       "      <td>https://myanimelist.net/anime/11061/Hunter_x_H...</td>\n",
       "      <td>&lt;span itemprop=\"ratingValue\"&gt;9.13&lt;/span&gt;&lt;sup&gt;1...</td>\n",
       "      <td>https://myanimelist.net/anime/11061/Hunter_x_H...</td>\n",
       "      <td>Finished Airing</td>\n",
       "      <td>&lt;a href=\"https://myanimelist.net/topanime.php?...</td>\n",
       "      <td>&lt;a href=\"/anime/producer/11/Madhouse\" title=\"M...</td>\n",
       "      <td>Hunter x Hunter (2011)</td>\n",
       "    </tr>\n",
       "    <tr>\n",
       "      <th>3</th>\n",
       "      <td>Apr 6, 2011 to Sep 14, 2011</td>\n",
       "      <td>24</td>\n",
       "      <td>&lt;a href=\"/anime/genre/24/Sci-Fi\" title=\"Sci-Fi...</td>\n",
       "      <td>PageEntry</td>\n",
       "      <td>&lt;a href=\"/anime/producer/61/Frontier_Works\" ti...</td>\n",
       "      <td>https://myanimelist.net/anime/9253/Steins_Gate...</td>\n",
       "      <td>&lt;span itemprop=\"ratingValue\"&gt;9.17&lt;/span&gt;&lt;sup&gt;1...</td>\n",
       "      <td>https://myanimelist.net/anime/9253/Steins_Gate...</td>\n",
       "      <td>Finished Airing</td>\n",
       "      <td>&lt;a href=\"https://myanimelist.net/topanime.php?...</td>\n",
       "      <td>&lt;a href=\"/anime/producer/314/White_Fox\" title=...</td>\n",
       "      <td>Steins;Gate</td>\n",
       "    </tr>\n",
       "    <tr>\n",
       "      <th>4</th>\n",
       "      <td>Jan 9, 2017 to ?</td>\n",
       "      <td>Unknown</td>\n",
       "      <td>&lt;a href=\"/anime/genre/1/Action\" title=\"Action\"...</td>\n",
       "      <td>PageEntry</td>\n",
       "      <td>&lt;a href=\"/anime/producer/14/Sunrise\" title=\"Su...</td>\n",
       "      <td>https://myanimelist.net/anime/34096/Gintama/us...</td>\n",
       "      <td>&lt;span itemprop=\"ratingValue\"&gt;9.17&lt;/span&gt;&lt;sup&gt;1...</td>\n",
       "      <td>https://myanimelist.net/anime/34096/Gintama/stats</td>\n",
       "      <td>Currently Airing</td>\n",
       "      <td>&lt;a href=\"https://myanimelist.net/topanime.php?...</td>\n",
       "      <td>&lt;a href=\"/anime/producer/1258/Bandai_Namco_Pic...</td>\n",
       "      <td>Gintama.</td>\n",
       "    </tr>\n",
       "  </tbody>\n",
       "</table>\n",
       "</div>"
      ],
      "text/plain": [
       "                         aired episodes  \\\n",
       "0  Oct 4, 2012 to Mar 28, 2013       13   \n",
       "1  Apr 4, 2011 to Mar 26, 2012       51   \n",
       "2  Oct 2, 2011 to Sep 24, 2014      148   \n",
       "3  Apr 6, 2011 to Sep 14, 2011       24   \n",
       "4             Jan 9, 2017 to ?  Unknown   \n",
       "\n",
       "                                              genres   pagetype  \\\n",
       "0  <a href=\"/anime/genre/1/Action\" title=\"Action\"...  PageEntry   \n",
       "1  <a href=\"/anime/genre/1/Action\" title=\"Action\"...  PageEntry   \n",
       "2  <a href=\"/anime/genre/1/Action\" title=\"Action\"...  PageEntry   \n",
       "3  <a href=\"/anime/genre/24/Sci-Fi\" title=\"Sci-Fi...  PageEntry   \n",
       "4  <a href=\"/anime/genre/1/Action\" title=\"Action\"...  PageEntry   \n",
       "\n",
       "                                           producers  \\\n",
       "0  <a href=\"/anime/producer/16/TV_Tokyo\" title=\"T...   \n",
       "1  <a href=\"/anime/producer/16/TV_Tokyo\" title=\"T...   \n",
       "2  <a href=\"/anime/producer/29/VAP\" title=\"VAP\">V...   \n",
       "3  <a href=\"/anime/producer/61/Frontier_Works\" ti...   \n",
       "4  <a href=\"/anime/producer/14/Sunrise\" title=\"Su...   \n",
       "\n",
       "                                  recommendationlink  \\\n",
       "0  https://myanimelist.net/anime/15417/Gintama__E...   \n",
       "1  https://myanimelist.net/anime/9969/Gintama/use...   \n",
       "2  https://myanimelist.net/anime/11061/Hunter_x_H...   \n",
       "3  https://myanimelist.net/anime/9253/Steins_Gate...   \n",
       "4  https://myanimelist.net/anime/34096/Gintama/us...   \n",
       "\n",
       "                                               score  \\\n",
       "0  <span itemprop=\"ratingValue\">9.10</span><sup>1...   \n",
       "1  <span itemprop=\"ratingValue\">9.16</span><sup>1...   \n",
       "2  <span itemprop=\"ratingValue\">9.13</span><sup>1...   \n",
       "3  <span itemprop=\"ratingValue\">9.17</span><sup>1...   \n",
       "4  <span itemprop=\"ratingValue\">9.17</span><sup>1...   \n",
       "\n",
       "                                           statslink            status  \\\n",
       "0  https://myanimelist.net/anime/15417/Gintama__E...   Finished Airing   \n",
       "1   https://myanimelist.net/anime/9969/Gintama/stats   Finished Airing   \n",
       "2  https://myanimelist.net/anime/11061/Hunter_x_H...   Finished Airing   \n",
       "3  https://myanimelist.net/anime/9253/Steins_Gate...   Finished Airing   \n",
       "4  https://myanimelist.net/anime/34096/Gintama/stats  Currently Airing   \n",
       "\n",
       "                                          streamtype  \\\n",
       "0  <a href=\"https://myanimelist.net/topanime.php?...   \n",
       "1  <a href=\"https://myanimelist.net/topanime.php?...   \n",
       "2  <a href=\"https://myanimelist.net/topanime.php?...   \n",
       "3  <a href=\"https://myanimelist.net/topanime.php?...   \n",
       "4  <a href=\"https://myanimelist.net/topanime.php?...   \n",
       "\n",
       "                                             studios                   title  \n",
       "0  <a href=\"/anime/producer/14/Sunrise\" title=\"Su...     Gintama': Enchousen  \n",
       "1  <a href=\"/anime/producer/14/Sunrise\" title=\"Su...                Gintama'  \n",
       "2  <a href=\"/anime/producer/11/Madhouse\" title=\"M...  Hunter x Hunter (2011)  \n",
       "3  <a href=\"/anime/producer/314/White_Fox\" title=...             Steins;Gate  \n",
       "4  <a href=\"/anime/producer/1258/Bandai_Namco_Pic...                Gintama.  "
      ]
     },
     "metadata": {},
     "output_type": "display_data"
    }
   ],
   "source": [
    "display(pageframe.head())"
   ]
  },
  {
   "cell_type": "markdown",
   "metadata": {},
   "source": [
    "Remove html tags from studios and genres and producers of <b>pageframe</b>"
   ]
  },
  {
   "cell_type": "code",
   "execution_count": 27,
   "metadata": {
    "collapsed": false,
    "scrolled": true
   },
   "outputs": [],
   "source": [
    "def extract_studios(s):\n",
    "    if('None found' in s):\n",
    "        return []\n",
    "    return ([(lambda x: None if (('None found') in x or len(re.findall('<a.*>(.*)</a>', x))<1) else re.findall('<a.*>(.*)</a>', x)[0])(x) for x in s.split(',')])\n",
    "pageframe.studios = pageframe.studios.apply(extract_studios)\n",
    "\n",
    "def extract_genres(s):\n",
    "    if len(re.findall('<a.*>(.*)</a>', s))<1:\n",
    "        return []\n",
    "    return ([(lambda x: None if len(re.findall('<a.*>(.*)</a>', x))<1 else re.findall('<a.*>(.*)</a>', x)[0])(x) for x in s.split(',')])\n",
    "pageframe.genres = pageframe.genres.apply(extract_genres)\n",
    "\n",
    "def extract_producers(s):\n",
    "    if('None found' in s):\n",
    "        return []\n",
    "    return ([(lambda x: None if len(re.findall('<a.*>(.*)</a>', x))<1 else re.findall('<a.*>(.*)</a>', x)[0])(x) for x in s.split(',')])\n",
    "pageframe.producers = pageframe.producers.apply(extract_producers)\n"
   ]
  },
  {
   "cell_type": "code",
   "execution_count": 28,
   "metadata": {
    "collapsed": false
   },
   "outputs": [
    {
     "data": {
      "text/html": [
       "<div>\n",
       "<table border=\"1\" class=\"dataframe\">\n",
       "  <thead>\n",
       "    <tr style=\"text-align: right;\">\n",
       "      <th></th>\n",
       "      <th>aired</th>\n",
       "      <th>episodes</th>\n",
       "      <th>genres</th>\n",
       "      <th>pagetype</th>\n",
       "      <th>producers</th>\n",
       "      <th>score</th>\n",
       "      <th>status</th>\n",
       "      <th>studios</th>\n",
       "      <th>title</th>\n",
       "    </tr>\n",
       "  </thead>\n",
       "  <tbody>\n",
       "    <tr>\n",
       "      <th>0</th>\n",
       "      <td>Oct 4, 2012 to Mar 28, 2013</td>\n",
       "      <td>13</td>\n",
       "      <td>[Action, Comedy, Historical, Parody, Samurai, ...</td>\n",
       "      <td>PageEntry</td>\n",
       "      <td>[TV Tokyo, Aniplex, Dentsu, Shueisha, Miracle ...</td>\n",
       "      <td>&lt;span itemprop=\"ratingValue\"&gt;9.10&lt;/span&gt;&lt;sup&gt;1...</td>\n",
       "      <td>Finished Airing</td>\n",
       "      <td>[Sunrise]</td>\n",
       "      <td>Gintama': Enchousen</td>\n",
       "    </tr>\n",
       "    <tr>\n",
       "      <th>1</th>\n",
       "      <td>Apr 4, 2011 to Mar 26, 2012</td>\n",
       "      <td>51</td>\n",
       "      <td>[Action, Sci-Fi, Comedy, Historical, Parody, S...</td>\n",
       "      <td>PageEntry</td>\n",
       "      <td>[TV Tokyo, Aniplex, Dentsu, Trinity Sound, Mir...</td>\n",
       "      <td>&lt;span itemprop=\"ratingValue\"&gt;9.16&lt;/span&gt;&lt;sup&gt;1...</td>\n",
       "      <td>Finished Airing</td>\n",
       "      <td>[Sunrise]</td>\n",
       "      <td>Gintama'</td>\n",
       "    </tr>\n",
       "    <tr>\n",
       "      <th>2</th>\n",
       "      <td>Oct 2, 2011 to Sep 24, 2014</td>\n",
       "      <td>148</td>\n",
       "      <td>[Action, Adventure, Super Power, Shounen]</td>\n",
       "      <td>PageEntry</td>\n",
       "      <td>[VAP, Nippon Television Network Corporation, S...</td>\n",
       "      <td>&lt;span itemprop=\"ratingValue\"&gt;9.13&lt;/span&gt;&lt;sup&gt;1...</td>\n",
       "      <td>Finished Airing</td>\n",
       "      <td>[Madhouse]</td>\n",
       "      <td>Hunter x Hunter (2011)</td>\n",
       "    </tr>\n",
       "    <tr>\n",
       "      <th>3</th>\n",
       "      <td>Apr 6, 2011 to Sep 14, 2011</td>\n",
       "      <td>24</td>\n",
       "      <td>[Sci-Fi, Thriller]</td>\n",
       "      <td>PageEntry</td>\n",
       "      <td>[Frontier Works, Media Factory, Movic, AT-X, K...</td>\n",
       "      <td>&lt;span itemprop=\"ratingValue\"&gt;9.17&lt;/span&gt;&lt;sup&gt;1...</td>\n",
       "      <td>Finished Airing</td>\n",
       "      <td>[White Fox]</td>\n",
       "      <td>Steins;Gate</td>\n",
       "    </tr>\n",
       "    <tr>\n",
       "      <th>4</th>\n",
       "      <td>Jan 9, 2017 to ?</td>\n",
       "      <td>Unknown</td>\n",
       "      <td>[Action, Sci-Fi, Comedy, Historical, Parody, S...</td>\n",
       "      <td>PageEntry</td>\n",
       "      <td>[Sunrise, TV Tokyo]</td>\n",
       "      <td>&lt;span itemprop=\"ratingValue\"&gt;9.17&lt;/span&gt;&lt;sup&gt;1...</td>\n",
       "      <td>Currently Airing</td>\n",
       "      <td>[Bandai Namco Pictures]</td>\n",
       "      <td>Gintama.</td>\n",
       "    </tr>\n",
       "  </tbody>\n",
       "</table>\n",
       "</div>"
      ],
      "text/plain": [
       "                         aired episodes  \\\n",
       "0  Oct 4, 2012 to Mar 28, 2013       13   \n",
       "1  Apr 4, 2011 to Mar 26, 2012       51   \n",
       "2  Oct 2, 2011 to Sep 24, 2014      148   \n",
       "3  Apr 6, 2011 to Sep 14, 2011       24   \n",
       "4             Jan 9, 2017 to ?  Unknown   \n",
       "\n",
       "                                              genres   pagetype  \\\n",
       "0  [Action, Comedy, Historical, Parody, Samurai, ...  PageEntry   \n",
       "1  [Action, Sci-Fi, Comedy, Historical, Parody, S...  PageEntry   \n",
       "2          [Action, Adventure, Super Power, Shounen]  PageEntry   \n",
       "3                                 [Sci-Fi, Thriller]  PageEntry   \n",
       "4  [Action, Sci-Fi, Comedy, Historical, Parody, S...  PageEntry   \n",
       "\n",
       "                                           producers  \\\n",
       "0  [TV Tokyo, Aniplex, Dentsu, Shueisha, Miracle ...   \n",
       "1  [TV Tokyo, Aniplex, Dentsu, Trinity Sound, Mir...   \n",
       "2  [VAP, Nippon Television Network Corporation, S...   \n",
       "3  [Frontier Works, Media Factory, Movic, AT-X, K...   \n",
       "4                                [Sunrise, TV Tokyo]   \n",
       "\n",
       "                                               score            status  \\\n",
       "0  <span itemprop=\"ratingValue\">9.10</span><sup>1...   Finished Airing   \n",
       "1  <span itemprop=\"ratingValue\">9.16</span><sup>1...   Finished Airing   \n",
       "2  <span itemprop=\"ratingValue\">9.13</span><sup>1...   Finished Airing   \n",
       "3  <span itemprop=\"ratingValue\">9.17</span><sup>1...   Finished Airing   \n",
       "4  <span itemprop=\"ratingValue\">9.17</span><sup>1...  Currently Airing   \n",
       "\n",
       "                   studios                   title  \n",
       "0                [Sunrise]     Gintama': Enchousen  \n",
       "1                [Sunrise]                Gintama'  \n",
       "2               [Madhouse]  Hunter x Hunter (2011)  \n",
       "3              [White Fox]             Steins;Gate  \n",
       "4  [Bandai Namco Pictures]                Gintama.  "
      ]
     },
     "execution_count": 28,
     "metadata": {},
     "output_type": "execute_result"
    }
   ],
   "source": [
    "pageframe = pageframe.drop(['recommendationlink', 'statslink', 'streamtype'], axis =1) #Drop columns with useless info\n",
    "pageframe.head() #show partially cleaned page frame"
   ]
  },
  {
   "cell_type": "markdown",
   "metadata": {},
   "source": [
    "Remove html tag and split scores into two different columns for <b>pageframe</b> and also convert episodes into numeric column"
   ]
  },
  {
   "cell_type": "code",
   "execution_count": 29,
   "metadata": {
    "collapsed": false
   },
   "outputs": [],
   "source": [
    "pageframe.score = pageframe.score.apply(lambda s: (re.findall('<span.*>(.*)</span>.*<span.*>(.*)</span>.*',s))[0])\n",
    "pageframe.score,pageframe['num_votes']=pageframe.score.apply(pd.Series)[0],pageframe.score.apply(pd.Series)[1]\n",
    "pageframe.num_votes = pageframe.num_votes.str.replace(',','').astype(int)\n",
    "pageframe.score = pageframe.score.apply(lambda x: None if x=='N/A' else x).astype(float)\n",
    "pageframe.episodes = pageframe.episodes.apply(lambda x: int(x) if x.isdigit() else None)"
   ]
  },
  {
   "cell_type": "code",
   "execution_count": 30,
   "metadata": {
    "collapsed": false
   },
   "outputs": [
    {
     "data": {
      "text/html": [
       "<div>\n",
       "<table border=\"1\" class=\"dataframe\">\n",
       "  <thead>\n",
       "    <tr style=\"text-align: right;\">\n",
       "      <th></th>\n",
       "      <th>aired</th>\n",
       "      <th>episodes</th>\n",
       "      <th>genres</th>\n",
       "      <th>pagetype</th>\n",
       "      <th>producers</th>\n",
       "      <th>score</th>\n",
       "      <th>status</th>\n",
       "      <th>studios</th>\n",
       "      <th>title</th>\n",
       "      <th>num_votes</th>\n",
       "    </tr>\n",
       "  </thead>\n",
       "  <tbody>\n",
       "    <tr>\n",
       "      <th>0</th>\n",
       "      <td>Oct 4, 2012 to Mar 28, 2013</td>\n",
       "      <td>13.0</td>\n",
       "      <td>[Action, Comedy, Historical, Parody, Samurai, ...</td>\n",
       "      <td>PageEntry</td>\n",
       "      <td>[TV Tokyo, Aniplex, Dentsu, Shueisha, Miracle ...</td>\n",
       "      <td>9.10</td>\n",
       "      <td>Finished Airing</td>\n",
       "      <td>[Sunrise]</td>\n",
       "      <td>Gintama': Enchousen</td>\n",
       "      <td>44356</td>\n",
       "    </tr>\n",
       "    <tr>\n",
       "      <th>1</th>\n",
       "      <td>Apr 4, 2011 to Mar 26, 2012</td>\n",
       "      <td>51.0</td>\n",
       "      <td>[Action, Sci-Fi, Comedy, Historical, Parody, S...</td>\n",
       "      <td>PageEntry</td>\n",
       "      <td>[TV Tokyo, Aniplex, Dentsu, Trinity Sound, Mir...</td>\n",
       "      <td>9.16</td>\n",
       "      <td>Finished Airing</td>\n",
       "      <td>[Sunrise]</td>\n",
       "      <td>Gintama'</td>\n",
       "      <td>67153</td>\n",
       "    </tr>\n",
       "    <tr>\n",
       "      <th>2</th>\n",
       "      <td>Oct 2, 2011 to Sep 24, 2014</td>\n",
       "      <td>148.0</td>\n",
       "      <td>[Action, Adventure, Super Power, Shounen]</td>\n",
       "      <td>PageEntry</td>\n",
       "      <td>[VAP, Nippon Television Network Corporation, S...</td>\n",
       "      <td>9.13</td>\n",
       "      <td>Finished Airing</td>\n",
       "      <td>[Madhouse]</td>\n",
       "      <td>Hunter x Hunter (2011)</td>\n",
       "      <td>251094</td>\n",
       "    </tr>\n",
       "    <tr>\n",
       "      <th>3</th>\n",
       "      <td>Apr 6, 2011 to Sep 14, 2011</td>\n",
       "      <td>24.0</td>\n",
       "      <td>[Sci-Fi, Thriller]</td>\n",
       "      <td>PageEntry</td>\n",
       "      <td>[Frontier Works, Media Factory, Movic, AT-X, K...</td>\n",
       "      <td>9.17</td>\n",
       "      <td>Finished Airing</td>\n",
       "      <td>[White Fox]</td>\n",
       "      <td>Steins;Gate</td>\n",
       "      <td>403535</td>\n",
       "    </tr>\n",
       "    <tr>\n",
       "      <th>4</th>\n",
       "      <td>Jan 9, 2017 to ?</td>\n",
       "      <td>NaN</td>\n",
       "      <td>[Action, Sci-Fi, Comedy, Historical, Parody, S...</td>\n",
       "      <td>PageEntry</td>\n",
       "      <td>[Sunrise, TV Tokyo]</td>\n",
       "      <td>9.17</td>\n",
       "      <td>Currently Airing</td>\n",
       "      <td>[Bandai Namco Pictures]</td>\n",
       "      <td>Gintama.</td>\n",
       "      <td>6983</td>\n",
       "    </tr>\n",
       "  </tbody>\n",
       "</table>\n",
       "</div>"
      ],
      "text/plain": [
       "                         aired  episodes  \\\n",
       "0  Oct 4, 2012 to Mar 28, 2013      13.0   \n",
       "1  Apr 4, 2011 to Mar 26, 2012      51.0   \n",
       "2  Oct 2, 2011 to Sep 24, 2014     148.0   \n",
       "3  Apr 6, 2011 to Sep 14, 2011      24.0   \n",
       "4             Jan 9, 2017 to ?       NaN   \n",
       "\n",
       "                                              genres   pagetype  \\\n",
       "0  [Action, Comedy, Historical, Parody, Samurai, ...  PageEntry   \n",
       "1  [Action, Sci-Fi, Comedy, Historical, Parody, S...  PageEntry   \n",
       "2          [Action, Adventure, Super Power, Shounen]  PageEntry   \n",
       "3                                 [Sci-Fi, Thriller]  PageEntry   \n",
       "4  [Action, Sci-Fi, Comedy, Historical, Parody, S...  PageEntry   \n",
       "\n",
       "                                           producers  score            status  \\\n",
       "0  [TV Tokyo, Aniplex, Dentsu, Shueisha, Miracle ...   9.10   Finished Airing   \n",
       "1  [TV Tokyo, Aniplex, Dentsu, Trinity Sound, Mir...   9.16   Finished Airing   \n",
       "2  [VAP, Nippon Television Network Corporation, S...   9.13   Finished Airing   \n",
       "3  [Frontier Works, Media Factory, Movic, AT-X, K...   9.17   Finished Airing   \n",
       "4                                [Sunrise, TV Tokyo]   9.17  Currently Airing   \n",
       "\n",
       "                   studios                   title  num_votes  \n",
       "0                [Sunrise]     Gintama': Enchousen      44356  \n",
       "1                [Sunrise]                Gintama'      67153  \n",
       "2               [Madhouse]  Hunter x Hunter (2011)     251094  \n",
       "3              [White Fox]             Steins;Gate     403535  \n",
       "4  [Bandai Namco Pictures]                Gintama.       6983  "
      ]
     },
     "metadata": {},
     "output_type": "display_data"
    }
   ],
   "source": [
    "display(pageframe.head())"
   ]
  },
  {
   "cell_type": "markdown",
   "metadata": {},
   "source": [
    "Parsing aired as two date columns, air_start and air_end"
   ]
  },
  {
   "cell_type": "code",
   "execution_count": 31,
   "metadata": {
    "collapsed": false
   },
   "outputs": [
    {
     "name": "stderr",
     "output_type": "stream",
     "text": [
      "C:\\Program Files\\Anaconda3\\lib\\site-packages\\pandas\\core\\indexing.py:132: SettingWithCopyWarning: \n",
      "A value is trying to be set on a copy of a slice from a DataFrame\n",
      "\n",
      "See the caveats in the documentation: http://pandas.pydata.org/pandas-docs/stable/indexing.html#indexing-view-versus-copy\n",
      "  self._setitem_with_indexer(indexer, value)\n"
     ]
    }
   ],
   "source": [
    "airseries = pageframe.aired\n",
    "airseries.loc[(airseries == 'Not available')]=np.nan\n",
    "airseries_split = airseries.str.split('to')"
   ]
  },
  {
   "cell_type": "code",
   "execution_count": 32,
   "metadata": {
    "collapsed": false
   },
   "outputs": [
    {
     "data": {
      "text/html": [
       "<div>\n",
       "<table border=\"1\" class=\"dataframe\">\n",
       "  <thead>\n",
       "    <tr style=\"text-align: right;\">\n",
       "      <th></th>\n",
       "      <th>0</th>\n",
       "      <th>1</th>\n",
       "    </tr>\n",
       "  </thead>\n",
       "  <tbody>\n",
       "    <tr>\n",
       "      <th>0</th>\n",
       "      <td>Oct 4, 2012</td>\n",
       "      <td>Mar 28, 2013</td>\n",
       "    </tr>\n",
       "    <tr>\n",
       "      <th>1</th>\n",
       "      <td>Apr 4, 2011</td>\n",
       "      <td>Mar 26, 2012</td>\n",
       "    </tr>\n",
       "    <tr>\n",
       "      <th>2</th>\n",
       "      <td>Oct 2, 2011</td>\n",
       "      <td>Sep 24, 2014</td>\n",
       "    </tr>\n",
       "    <tr>\n",
       "      <th>3</th>\n",
       "      <td>Apr 6, 2011</td>\n",
       "      <td>Sep 14, 2011</td>\n",
       "    </tr>\n",
       "    <tr>\n",
       "      <th>4</th>\n",
       "      <td>Jan 9, 2017</td>\n",
       "      <td>?</td>\n",
       "    </tr>\n",
       "  </tbody>\n",
       "</table>\n",
       "</div>"
      ],
      "text/plain": [
       "              0              1\n",
       "0  Oct 4, 2012    Mar 28, 2013\n",
       "1  Apr 4, 2011    Mar 26, 2012\n",
       "2  Oct 2, 2011    Sep 24, 2014\n",
       "3  Apr 6, 2011    Sep 14, 2011\n",
       "4  Jan 9, 2017               ?"
      ]
     },
     "metadata": {},
     "output_type": "display_data"
    }
   ],
   "source": [
    "dateframe = airseries_split.apply(lambda x: [x[0],np.nan] if (isinstance(x,list) and len(x)<2) else (lambda y: [y,np.nan] if isinstance(y, float) else y)(x))\n",
    "dateframe = dateframe.apply(pd.Series)\n",
    "display(dateframe.head())"
   ]
  },
  {
   "cell_type": "code",
   "execution_count": 33,
   "metadata": {
    "collapsed": false,
    "scrolled": false
   },
   "outputs": [],
   "source": [
    "dateframe[0] = dateframe[0].str.strip().replace('?',np.nan)\n",
    "dateframe[1] = dateframe[1].str.strip().replace('?',np.nan)\n",
    "dateframe[0] = dateframe[0].apply(lambda x: pd.to_datetime(x))\n",
    "dateframe[1] = dateframe[1].apply(lambda x: pd.to_datetime(x))\n",
    "pageframe['air_start'],pageframe['air_end'] = dateframe[0], dateframe[1]"
   ]
  },
  {
   "cell_type": "code",
   "execution_count": 34,
   "metadata": {
    "collapsed": false
   },
   "outputs": [],
   "source": [
    "#Rearrange columns & remove page frame and aire\n",
    "pageframe = pageframe[['title','episodes','score','num_votes','air_start','air_end','genres','producers','studios','status']]"
   ]
  },
  {
   "cell_type": "code",
   "execution_count": 35,
   "metadata": {
    "collapsed": false
   },
   "outputs": [
    {
     "data": {
      "text/html": [
       "<div>\n",
       "<table border=\"1\" class=\"dataframe\">\n",
       "  <thead>\n",
       "    <tr style=\"text-align: right;\">\n",
       "      <th></th>\n",
       "      <th>title</th>\n",
       "      <th>episodes</th>\n",
       "      <th>score</th>\n",
       "      <th>num_votes</th>\n",
       "      <th>air_start</th>\n",
       "      <th>air_end</th>\n",
       "      <th>genres</th>\n",
       "      <th>producers</th>\n",
       "      <th>studios</th>\n",
       "      <th>status</th>\n",
       "    </tr>\n",
       "  </thead>\n",
       "  <tbody>\n",
       "    <tr>\n",
       "      <th>0</th>\n",
       "      <td>Gintama': Enchousen</td>\n",
       "      <td>13.0</td>\n",
       "      <td>9.10</td>\n",
       "      <td>44356</td>\n",
       "      <td>2012-10-04</td>\n",
       "      <td>2013-03-28</td>\n",
       "      <td>[Action, Comedy, Historical, Parody, Samurai, ...</td>\n",
       "      <td>[TV Tokyo, Aniplex, Dentsu, Shueisha, Miracle ...</td>\n",
       "      <td>[Sunrise]</td>\n",
       "      <td>Finished Airing</td>\n",
       "    </tr>\n",
       "    <tr>\n",
       "      <th>1</th>\n",
       "      <td>Gintama'</td>\n",
       "      <td>51.0</td>\n",
       "      <td>9.16</td>\n",
       "      <td>67153</td>\n",
       "      <td>2011-04-04</td>\n",
       "      <td>2012-03-26</td>\n",
       "      <td>[Action, Sci-Fi, Comedy, Historical, Parody, S...</td>\n",
       "      <td>[TV Tokyo, Aniplex, Dentsu, Trinity Sound, Mir...</td>\n",
       "      <td>[Sunrise]</td>\n",
       "      <td>Finished Airing</td>\n",
       "    </tr>\n",
       "    <tr>\n",
       "      <th>2</th>\n",
       "      <td>Hunter x Hunter (2011)</td>\n",
       "      <td>148.0</td>\n",
       "      <td>9.13</td>\n",
       "      <td>251094</td>\n",
       "      <td>2011-10-02</td>\n",
       "      <td>2014-09-24</td>\n",
       "      <td>[Action, Adventure, Super Power, Shounen]</td>\n",
       "      <td>[VAP, Nippon Television Network Corporation, S...</td>\n",
       "      <td>[Madhouse]</td>\n",
       "      <td>Finished Airing</td>\n",
       "    </tr>\n",
       "    <tr>\n",
       "      <th>3</th>\n",
       "      <td>Steins;Gate</td>\n",
       "      <td>24.0</td>\n",
       "      <td>9.17</td>\n",
       "      <td>403535</td>\n",
       "      <td>2011-04-06</td>\n",
       "      <td>2011-09-14</td>\n",
       "      <td>[Sci-Fi, Thriller]</td>\n",
       "      <td>[Frontier Works, Media Factory, Movic, AT-X, K...</td>\n",
       "      <td>[White Fox]</td>\n",
       "      <td>Finished Airing</td>\n",
       "    </tr>\n",
       "    <tr>\n",
       "      <th>4</th>\n",
       "      <td>Gintama.</td>\n",
       "      <td>NaN</td>\n",
       "      <td>9.17</td>\n",
       "      <td>6983</td>\n",
       "      <td>2017-01-09</td>\n",
       "      <td>NaT</td>\n",
       "      <td>[Action, Sci-Fi, Comedy, Historical, Parody, S...</td>\n",
       "      <td>[Sunrise, TV Tokyo]</td>\n",
       "      <td>[Bandai Namco Pictures]</td>\n",
       "      <td>Currently Airing</td>\n",
       "    </tr>\n",
       "  </tbody>\n",
       "</table>\n",
       "</div>"
      ],
      "text/plain": [
       "                    title  episodes  score  num_votes  air_start    air_end  \\\n",
       "0     Gintama': Enchousen      13.0   9.10      44356 2012-10-04 2013-03-28   \n",
       "1                Gintama'      51.0   9.16      67153 2011-04-04 2012-03-26   \n",
       "2  Hunter x Hunter (2011)     148.0   9.13     251094 2011-10-02 2014-09-24   \n",
       "3             Steins;Gate      24.0   9.17     403535 2011-04-06 2011-09-14   \n",
       "4                Gintama.       NaN   9.17       6983 2017-01-09        NaT   \n",
       "\n",
       "                                              genres  \\\n",
       "0  [Action, Comedy, Historical, Parody, Samurai, ...   \n",
       "1  [Action, Sci-Fi, Comedy, Historical, Parody, S...   \n",
       "2          [Action, Adventure, Super Power, Shounen]   \n",
       "3                                 [Sci-Fi, Thriller]   \n",
       "4  [Action, Sci-Fi, Comedy, Historical, Parody, S...   \n",
       "\n",
       "                                           producers                  studios  \\\n",
       "0  [TV Tokyo, Aniplex, Dentsu, Shueisha, Miracle ...                [Sunrise]   \n",
       "1  [TV Tokyo, Aniplex, Dentsu, Trinity Sound, Mir...                [Sunrise]   \n",
       "2  [VAP, Nippon Television Network Corporation, S...               [Madhouse]   \n",
       "3  [Frontier Works, Media Factory, Movic, AT-X, K...              [White Fox]   \n",
       "4                                [Sunrise, TV Tokyo]  [Bandai Namco Pictures]   \n",
       "\n",
       "             status  \n",
       "0   Finished Airing  \n",
       "1   Finished Airing  \n",
       "2   Finished Airing  \n",
       "3   Finished Airing  \n",
       "4  Currently Airing  "
      ]
     },
     "metadata": {},
     "output_type": "display_data"
    }
   ],
   "source": [
    "display(pageframe.head())"
   ]
  },
  {
   "cell_type": "markdown",
   "metadata": {},
   "source": [
    "### Cleaning Stats Frame"
   ]
  },
  {
   "cell_type": "code",
   "execution_count": 36,
   "metadata": {
    "collapsed": false
   },
   "outputs": [
    {
     "data": {
      "text/html": [
       "<div>\n",
       "<table border=\"1\" class=\"dataframe\">\n",
       "  <thead>\n",
       "    <tr style=\"text-align: right;\">\n",
       "      <th></th>\n",
       "      <th>pagetype</th>\n",
       "      <th>score1</th>\n",
       "      <th>score10</th>\n",
       "      <th>score2</th>\n",
       "      <th>score3</th>\n",
       "      <th>score4</th>\n",
       "      <th>score5</th>\n",
       "      <th>score6</th>\n",
       "      <th>score7</th>\n",
       "      <th>score8</th>\n",
       "      <th>score9</th>\n",
       "      <th>title</th>\n",
       "    </tr>\n",
       "  </thead>\n",
       "  <tbody>\n",
       "    <tr>\n",
       "      <th>0</th>\n",
       "      <td>StatsEntry</td>\n",
       "      <td>396</td>\n",
       "      <td>23134</td>\n",
       "      <td>44</td>\n",
       "      <td>55</td>\n",
       "      <td>121</td>\n",
       "      <td>340</td>\n",
       "      <td>739</td>\n",
       "      <td>2619</td>\n",
       "      <td>6405</td>\n",
       "      <td>11860</td>\n",
       "      <td>Gintama': Enchousen</td>\n",
       "    </tr>\n",
       "    <tr>\n",
       "      <th>1</th>\n",
       "      <td>StatsEntry</td>\n",
       "      <td>147</td>\n",
       "      <td>29137</td>\n",
       "      <td>18</td>\n",
       "      <td>28</td>\n",
       "      <td>78</td>\n",
       "      <td>256</td>\n",
       "      <td>794</td>\n",
       "      <td>3380</td>\n",
       "      <td>11566</td>\n",
       "      <td>23703</td>\n",
       "      <td>Haikyuu!!: Karasuno Koukou VS Shiratorizawa Ga...</td>\n",
       "    </tr>\n",
       "    <tr>\n",
       "      <th>2</th>\n",
       "      <td>StatsEntry</td>\n",
       "      <td>340</td>\n",
       "      <td>47495</td>\n",
       "      <td>211</td>\n",
       "      <td>396</td>\n",
       "      <td>1034</td>\n",
       "      <td>3277</td>\n",
       "      <td>8412</td>\n",
       "      <td>30435</td>\n",
       "      <td>64263</td>\n",
       "      <td>64379</td>\n",
       "      <td>Kuroko no Basket</td>\n",
       "    </tr>\n",
       "    <tr>\n",
       "      <th>3</th>\n",
       "      <td>StatsEntry</td>\n",
       "      <td>44</td>\n",
       "      <td>10629</td>\n",
       "      <td>46</td>\n",
       "      <td>79</td>\n",
       "      <td>248</td>\n",
       "      <td>960</td>\n",
       "      <td>2750</td>\n",
       "      <td>9401</td>\n",
       "      <td>16087</td>\n",
       "      <td>13126</td>\n",
       "      <td>Kamisama Hajimemashita◎</td>\n",
       "    </tr>\n",
       "    <tr>\n",
       "      <th>4</th>\n",
       "      <td>StatsEntry</td>\n",
       "      <td>78</td>\n",
       "      <td>6341</td>\n",
       "      <td>55</td>\n",
       "      <td>120</td>\n",
       "      <td>354</td>\n",
       "      <td>1186</td>\n",
       "      <td>2699</td>\n",
       "      <td>7023</td>\n",
       "      <td>10723</td>\n",
       "      <td>8780</td>\n",
       "      <td>Hikaru no Go</td>\n",
       "    </tr>\n",
       "  </tbody>\n",
       "</table>\n",
       "</div>"
      ],
      "text/plain": [
       "     pagetype score1 score10 score2 score3 score4 score5 score6 score7 score8  \\\n",
       "0  StatsEntry    396   23134     44     55    121    340    739   2619   6405   \n",
       "1  StatsEntry    147   29137     18     28     78    256    794   3380  11566   \n",
       "2  StatsEntry    340   47495    211    396   1034   3277   8412  30435  64263   \n",
       "3  StatsEntry     44   10629     46     79    248    960   2750   9401  16087   \n",
       "4  StatsEntry     78    6341     55    120    354   1186   2699   7023  10723   \n",
       "\n",
       "  score9                                              title  \n",
       "0  11860                                Gintama': Enchousen  \n",
       "1  23703  Haikyuu!!: Karasuno Koukou VS Shiratorizawa Ga...  \n",
       "2  64379                                   Kuroko no Basket  \n",
       "3  13126                            Kamisama Hajimemashita◎  \n",
       "4   8780                                       Hikaru no Go  "
      ]
     },
     "metadata": {},
     "output_type": "display_data"
    },
    {
     "name": "stdout",
     "output_type": "stream",
     "text": [
      "<class 'pandas.core.frame.DataFrame'>\n",
      "Int64Index: 3797 entries, 0 to 3804\n",
      "Data columns (total 12 columns):\n",
      "pagetype    3797 non-null object\n",
      "score1      3797 non-null object\n",
      "score10     3797 non-null object\n",
      "score2      3797 non-null object\n",
      "score3      3797 non-null object\n",
      "score4      3797 non-null object\n",
      "score5      3797 non-null object\n",
      "score6      3797 non-null object\n",
      "score7      3797 non-null object\n",
      "score8      3797 non-null object\n",
      "score9      3797 non-null object\n",
      "title       3797 non-null object\n",
      "dtypes: object(12)\n",
      "memory usage: 385.6+ KB\n"
     ]
    }
   ],
   "source": [
    "display(statsframe.head())\n",
    "statsframe.info()"
   ]
  },
  {
   "cell_type": "code",
   "execution_count": 37,
   "metadata": {
    "collapsed": false
   },
   "outputs": [
    {
     "name": "stdout",
     "output_type": "stream",
     "text": [
      "<class 'pandas.core.frame.DataFrame'>\n",
      "Int64Index: 3797 entries, 0 to 3804\n",
      "Data columns (total 12 columns):\n",
      "pagetype    3797 non-null object\n",
      "score1      3797 non-null int32\n",
      "score10     3797 non-null int32\n",
      "score2      3797 non-null int32\n",
      "score3      3797 non-null int32\n",
      "score4      3797 non-null int32\n",
      "score5      3797 non-null int32\n",
      "score6      3797 non-null int32\n",
      "score7      3797 non-null int32\n",
      "score8      3797 non-null int32\n",
      "score9      3797 non-null int32\n",
      "title       3797 non-null object\n",
      "dtypes: int32(10), object(2)\n",
      "memory usage: 237.3+ KB\n"
     ]
    }
   ],
   "source": [
    "#convert score to integer types\n",
    "statsframe[['score1','score2','score3','score4','score5','score6','score7','score8','score9','score10']]=statsframe[['score1','score2','score3','score4','score5','score6','score7','score8','score9','score10']].astype(int)\n",
    "statsframe.info()"
   ]
  },
  {
   "cell_type": "code",
   "execution_count": 38,
   "metadata": {
    "collapsed": false
   },
   "outputs": [
    {
     "data": {
      "text/html": [
       "<div>\n",
       "<table border=\"1\" class=\"dataframe\">\n",
       "  <thead>\n",
       "    <tr style=\"text-align: right;\">\n",
       "      <th></th>\n",
       "      <th>title</th>\n",
       "      <th>score1</th>\n",
       "      <th>score2</th>\n",
       "      <th>score3</th>\n",
       "      <th>score4</th>\n",
       "      <th>score5</th>\n",
       "      <th>score6</th>\n",
       "      <th>score7</th>\n",
       "      <th>score8</th>\n",
       "      <th>score9</th>\n",
       "      <th>score10</th>\n",
       "    </tr>\n",
       "  </thead>\n",
       "  <tbody>\n",
       "    <tr>\n",
       "      <th>0</th>\n",
       "      <td>Gintama': Enchousen</td>\n",
       "      <td>396</td>\n",
       "      <td>44</td>\n",
       "      <td>55</td>\n",
       "      <td>121</td>\n",
       "      <td>340</td>\n",
       "      <td>739</td>\n",
       "      <td>2619</td>\n",
       "      <td>6405</td>\n",
       "      <td>11860</td>\n",
       "      <td>23134</td>\n",
       "    </tr>\n",
       "    <tr>\n",
       "      <th>1</th>\n",
       "      <td>Haikyuu!!: Karasuno Koukou VS Shiratorizawa Ga...</td>\n",
       "      <td>147</td>\n",
       "      <td>18</td>\n",
       "      <td>28</td>\n",
       "      <td>78</td>\n",
       "      <td>256</td>\n",
       "      <td>794</td>\n",
       "      <td>3380</td>\n",
       "      <td>11566</td>\n",
       "      <td>23703</td>\n",
       "      <td>29137</td>\n",
       "    </tr>\n",
       "    <tr>\n",
       "      <th>2</th>\n",
       "      <td>Kuroko no Basket</td>\n",
       "      <td>340</td>\n",
       "      <td>211</td>\n",
       "      <td>396</td>\n",
       "      <td>1034</td>\n",
       "      <td>3277</td>\n",
       "      <td>8412</td>\n",
       "      <td>30435</td>\n",
       "      <td>64263</td>\n",
       "      <td>64379</td>\n",
       "      <td>47495</td>\n",
       "    </tr>\n",
       "    <tr>\n",
       "      <th>3</th>\n",
       "      <td>Kamisama Hajimemashita◎</td>\n",
       "      <td>44</td>\n",
       "      <td>46</td>\n",
       "      <td>79</td>\n",
       "      <td>248</td>\n",
       "      <td>960</td>\n",
       "      <td>2750</td>\n",
       "      <td>9401</td>\n",
       "      <td>16087</td>\n",
       "      <td>13126</td>\n",
       "      <td>10629</td>\n",
       "    </tr>\n",
       "    <tr>\n",
       "      <th>4</th>\n",
       "      <td>Hikaru no Go</td>\n",
       "      <td>78</td>\n",
       "      <td>55</td>\n",
       "      <td>120</td>\n",
       "      <td>354</td>\n",
       "      <td>1186</td>\n",
       "      <td>2699</td>\n",
       "      <td>7023</td>\n",
       "      <td>10723</td>\n",
       "      <td>8780</td>\n",
       "      <td>6341</td>\n",
       "    </tr>\n",
       "  </tbody>\n",
       "</table>\n",
       "</div>"
      ],
      "text/plain": [
       "                                               title  score1  score2  score3  \\\n",
       "0                                Gintama': Enchousen     396      44      55   \n",
       "1  Haikyuu!!: Karasuno Koukou VS Shiratorizawa Ga...     147      18      28   \n",
       "2                                   Kuroko no Basket     340     211     396   \n",
       "3                            Kamisama Hajimemashita◎      44      46      79   \n",
       "4                                       Hikaru no Go      78      55     120   \n",
       "\n",
       "   score4  score5  score6  score7  score8  score9  score10  \n",
       "0     121     340     739    2619    6405   11860    23134  \n",
       "1      78     256     794    3380   11566   23703    29137  \n",
       "2    1034    3277    8412   30435   64263   64379    47495  \n",
       "3     248     960    2750    9401   16087   13126    10629  \n",
       "4     354    1186    2699    7023   10723    8780     6341  "
      ]
     },
     "metadata": {},
     "output_type": "display_data"
    }
   ],
   "source": [
    "#rearrange columns and remove pagetype\n",
    "statsframe= statsframe[['title','score1','score2','score3','score4','score5','score6','score7','score8','score9','score10']]\n",
    "display(statsframe.head())"
   ]
  },
  {
   "cell_type": "code",
   "execution_count": 39,
   "metadata": {
    "collapsed": false
   },
   "outputs": [],
   "source": [
    "#Create Average score\n",
    "weight= np.array([1,2,3,4,5,6,7,8,9,10])\n",
    "statsframe['num_votes'] =statsframe[['score1','score2','score3','score4','score5','score6','score7','score8','score9','score10']].sum(axis=1)\n",
    "weighted_sum = statsframe[['score1','score2','score3','score4','score5','score6','score7','score8','score9','score10']].dot(weight)\n",
    "statsframe['score'] = (weighted_sum/(statsframe.num_votes))\n",
    "a = (statsframe[['score1','score2','score3','score4','score5','score6','score7','score8','score9','score10']]**.5)*weight\n",
    "b = (statsframe[['score1','score2','score3','score4','score5','score6','score7','score8','score9','score10']]**.5).multiply(statsframe.score, axis='rows')\n",
    "stdev = ((((a-b)**2).sum(axis=1))/statsframe.num_votes)**.5\n",
    "statsframe['stdev'] = stdev"
   ]
  },
  {
   "cell_type": "code",
   "execution_count": 40,
   "metadata": {
    "collapsed": false
   },
   "outputs": [],
   "source": [
    "#rearrange columns and remove pagetype\n",
    "statsframe = statsframe[['title','score','stdev','num_votes','score1','score2','score3','score4','score5','score6','score7','score8','score9','score10']]"
   ]
  },
  {
   "cell_type": "code",
   "execution_count": 41,
   "metadata": {
    "collapsed": false
   },
   "outputs": [
    {
     "data": {
      "text/html": [
       "<div>\n",
       "<table border=\"1\" class=\"dataframe\">\n",
       "  <thead>\n",
       "    <tr style=\"text-align: right;\">\n",
       "      <th></th>\n",
       "      <th>title</th>\n",
       "      <th>score</th>\n",
       "      <th>stdev</th>\n",
       "      <th>num_votes</th>\n",
       "      <th>score1</th>\n",
       "      <th>score2</th>\n",
       "      <th>score3</th>\n",
       "      <th>score4</th>\n",
       "      <th>score5</th>\n",
       "      <th>score6</th>\n",
       "      <th>score7</th>\n",
       "      <th>score8</th>\n",
       "      <th>score9</th>\n",
       "      <th>score10</th>\n",
       "    </tr>\n",
       "  </thead>\n",
       "  <tbody>\n",
       "    <tr>\n",
       "      <th>0</th>\n",
       "      <td>Gintama': Enchousen</td>\n",
       "      <td>9.076630</td>\n",
       "      <td>1.358325</td>\n",
       "      <td>45713</td>\n",
       "      <td>396</td>\n",
       "      <td>44</td>\n",
       "      <td>55</td>\n",
       "      <td>121</td>\n",
       "      <td>340</td>\n",
       "      <td>739</td>\n",
       "      <td>2619</td>\n",
       "      <td>6405</td>\n",
       "      <td>11860</td>\n",
       "      <td>23134</td>\n",
       "    </tr>\n",
       "    <tr>\n",
       "      <th>1</th>\n",
       "      <td>Haikyuu!!: Karasuno Koukou VS Shiratorizawa Ga...</td>\n",
       "      <td>9.080238</td>\n",
       "      <td>1.064220</td>\n",
       "      <td>69107</td>\n",
       "      <td>147</td>\n",
       "      <td>18</td>\n",
       "      <td>28</td>\n",
       "      <td>78</td>\n",
       "      <td>256</td>\n",
       "      <td>794</td>\n",
       "      <td>3380</td>\n",
       "      <td>11566</td>\n",
       "      <td>23703</td>\n",
       "      <td>29137</td>\n",
       "    </tr>\n",
       "    <tr>\n",
       "      <th>2</th>\n",
       "      <td>Kuroko no Basket</td>\n",
       "      <td>8.420070</td>\n",
       "      <td>1.278095</td>\n",
       "      <td>220242</td>\n",
       "      <td>340</td>\n",
       "      <td>211</td>\n",
       "      <td>396</td>\n",
       "      <td>1034</td>\n",
       "      <td>3277</td>\n",
       "      <td>8412</td>\n",
       "      <td>30435</td>\n",
       "      <td>64263</td>\n",
       "      <td>64379</td>\n",
       "      <td>47495</td>\n",
       "    </tr>\n",
       "    <tr>\n",
       "      <th>3</th>\n",
       "      <td>Kamisama Hajimemashita◎</td>\n",
       "      <td>8.274162</td>\n",
       "      <td>1.301665</td>\n",
       "      <td>53370</td>\n",
       "      <td>44</td>\n",
       "      <td>46</td>\n",
       "      <td>79</td>\n",
       "      <td>248</td>\n",
       "      <td>960</td>\n",
       "      <td>2750</td>\n",
       "      <td>9401</td>\n",
       "      <td>16087</td>\n",
       "      <td>13126</td>\n",
       "      <td>10629</td>\n",
       "    </tr>\n",
       "    <tr>\n",
       "      <th>4</th>\n",
       "      <td>Hikaru no Go</td>\n",
       "      <td>8.069354</td>\n",
       "      <td>1.434932</td>\n",
       "      <td>37359</td>\n",
       "      <td>78</td>\n",
       "      <td>55</td>\n",
       "      <td>120</td>\n",
       "      <td>354</td>\n",
       "      <td>1186</td>\n",
       "      <td>2699</td>\n",
       "      <td>7023</td>\n",
       "      <td>10723</td>\n",
       "      <td>8780</td>\n",
       "      <td>6341</td>\n",
       "    </tr>\n",
       "  </tbody>\n",
       "</table>\n",
       "</div>"
      ],
      "text/plain": [
       "                                               title     score     stdev  \\\n",
       "0                                Gintama': Enchousen  9.076630  1.358325   \n",
       "1  Haikyuu!!: Karasuno Koukou VS Shiratorizawa Ga...  9.080238  1.064220   \n",
       "2                                   Kuroko no Basket  8.420070  1.278095   \n",
       "3                            Kamisama Hajimemashita◎  8.274162  1.301665   \n",
       "4                                       Hikaru no Go  8.069354  1.434932   \n",
       "\n",
       "   num_votes  score1  score2  score3  score4  score5  score6  score7  score8  \\\n",
       "0      45713     396      44      55     121     340     739    2619    6405   \n",
       "1      69107     147      18      28      78     256     794    3380   11566   \n",
       "2     220242     340     211     396    1034    3277    8412   30435   64263   \n",
       "3      53370      44      46      79     248     960    2750    9401   16087   \n",
       "4      37359      78      55     120     354    1186    2699    7023   10723   \n",
       "\n",
       "   score9  score10  \n",
       "0   11860    23134  \n",
       "1   23703    29137  \n",
       "2   64379    47495  \n",
       "3   13126    10629  \n",
       "4    8780     6341  "
      ]
     },
     "execution_count": 41,
     "metadata": {},
     "output_type": "execute_result"
    }
   ],
   "source": [
    "statsframe.head()"
   ]
  },
  {
   "cell_type": "markdown",
   "metadata": {},
   "source": [
    "After looking through some of the data there seems to be some discrepancy between the calculated score in the <b>statsframe</b> and scores on <b>pageframe</b> which are the ones that are officially displayed on the webssite.\n",
    "\n",
    "This is because of how My Anime List calculates its score.<i>\n",
    "> The score of a show as indicated by MAL users. MAL uses a weighted score generated from users, the only thing people need to keep in mind is how the final score is reached. MAL only records the scores of users who have watched 1/5th of a series to calculate its final score, however in order to generate a score before it reaches this point it reads the score of all users and follows the '1/5th rule' only after the show is completed, as such you may notice disparities between the penultimate and final score of a show. <br> https://myanimelist.net/clubs.php?cid=59197</i>\n",
    "\n",
    "\n",
    "Since we don't have user specific data we'll just have be aware while doing an analysis on the discrepency between the two."
   ]
  },
  {
   "cell_type": "markdown",
   "metadata": {},
   "source": [
    "<a id ='final'></a>\n",
    "## Final Data Tables"
   ]
  },
  {
   "cell_type": "code",
   "execution_count": 42,
   "metadata": {
    "collapsed": false
   },
   "outputs": [
    {
     "data": {
      "text/html": [
       "<h4>List Frame</h4"
      ],
      "text/plain": [
       "<IPython.core.display.HTML object>"
      ]
     },
     "metadata": {},
     "output_type": "display_data"
    },
    {
     "data": {
      "text/html": [
       "<div>\n",
       "<table border=\"1\" class=\"dataframe\">\n",
       "  <thead>\n",
       "    <tr style=\"text-align: right;\">\n",
       "      <th></th>\n",
       "      <th>title</th>\n",
       "      <th>ranking</th>\n",
       "      <th>score</th>\n",
       "      <th>members</th>\n",
       "      <th>episodes</th>\n",
       "      <th>link</th>\n",
       "    </tr>\n",
       "  </thead>\n",
       "  <tbody>\n",
       "    <tr>\n",
       "      <th>0</th>\n",
       "      <td>Fullmetal Alchemist: Brotherhood</td>\n",
       "      <td>1.0</td>\n",
       "      <td>9.26</td>\n",
       "      <td>824466</td>\n",
       "      <td>64.0</td>\n",
       "      <td>https://myanimelist.net/anime/5114/Fullmetal_A...</td>\n",
       "    </tr>\n",
       "    <tr>\n",
       "      <th>1</th>\n",
       "      <td>Gintama°</td>\n",
       "      <td>2.0</td>\n",
       "      <td>9.25</td>\n",
       "      <td>121675</td>\n",
       "      <td>51.0</td>\n",
       "      <td>https://myanimelist.net/anime/28977/Gintama°</td>\n",
       "    </tr>\n",
       "    <tr>\n",
       "      <th>2</th>\n",
       "      <td>Gintama.</td>\n",
       "      <td>3.0</td>\n",
       "      <td>9.17</td>\n",
       "      <td>32296</td>\n",
       "      <td>NaN</td>\n",
       "      <td>https://myanimelist.net/anime/34096/Gintama</td>\n",
       "    </tr>\n",
       "    <tr>\n",
       "      <th>3</th>\n",
       "      <td>Steins;Gate</td>\n",
       "      <td>4.0</td>\n",
       "      <td>9.17</td>\n",
       "      <td>702136</td>\n",
       "      <td>24.0</td>\n",
       "      <td>https://myanimelist.net/anime/9253/Steins_Gate</td>\n",
       "    </tr>\n",
       "    <tr>\n",
       "      <th>4</th>\n",
       "      <td>Gintama'</td>\n",
       "      <td>5.0</td>\n",
       "      <td>9.16</td>\n",
       "      <td>156924</td>\n",
       "      <td>51.0</td>\n",
       "      <td>https://myanimelist.net/anime/9969/Gintama</td>\n",
       "    </tr>\n",
       "  </tbody>\n",
       "</table>\n",
       "</div>"
      ],
      "text/plain": [
       "                              title  ranking  score  members  episodes  \\\n",
       "0  Fullmetal Alchemist: Brotherhood      1.0   9.26   824466      64.0   \n",
       "1                          Gintama°      2.0   9.25   121675      51.0   \n",
       "2                          Gintama.      3.0   9.17    32296       NaN   \n",
       "3                       Steins;Gate      4.0   9.17   702136      24.0   \n",
       "4                          Gintama'      5.0   9.16   156924      51.0   \n",
       "\n",
       "                                                link  \n",
       "0  https://myanimelist.net/anime/5114/Fullmetal_A...  \n",
       "1       https://myanimelist.net/anime/28977/Gintama°  \n",
       "2        https://myanimelist.net/anime/34096/Gintama  \n",
       "3     https://myanimelist.net/anime/9253/Steins_Gate  \n",
       "4         https://myanimelist.net/anime/9969/Gintama  "
      ]
     },
     "metadata": {},
     "output_type": "display_data"
    },
    {
     "name": "stdout",
     "output_type": "stream",
     "text": [
      "<class 'pandas.core.frame.DataFrame'>\n",
      "Index: 3797 entries, 0 to 3829\n",
      "Data columns (total 6 columns):\n",
      "title       3797 non-null object\n",
      "ranking     3697 non-null float64\n",
      "score       3694 non-null float64\n",
      "members     3797 non-null int32\n",
      "episodes    3583 non-null float64\n",
      "link        3797 non-null object\n",
      "dtypes: float64(3), int32(1), object(2)\n",
      "memory usage: 192.8+ KB\n"
     ]
    },
    {
     "data": {
      "text/html": [
       "<h4>Page Frame</h4"
      ],
      "text/plain": [
       "<IPython.core.display.HTML object>"
      ]
     },
     "metadata": {},
     "output_type": "display_data"
    },
    {
     "data": {
      "text/html": [
       "<div>\n",
       "<table border=\"1\" class=\"dataframe\">\n",
       "  <thead>\n",
       "    <tr style=\"text-align: right;\">\n",
       "      <th></th>\n",
       "      <th>title</th>\n",
       "      <th>episodes</th>\n",
       "      <th>score</th>\n",
       "      <th>num_votes</th>\n",
       "      <th>air_start</th>\n",
       "      <th>air_end</th>\n",
       "      <th>genres</th>\n",
       "      <th>producers</th>\n",
       "      <th>studios</th>\n",
       "      <th>status</th>\n",
       "    </tr>\n",
       "  </thead>\n",
       "  <tbody>\n",
       "    <tr>\n",
       "      <th>0</th>\n",
       "      <td>Gintama': Enchousen</td>\n",
       "      <td>13.0</td>\n",
       "      <td>9.10</td>\n",
       "      <td>44356</td>\n",
       "      <td>2012-10-04</td>\n",
       "      <td>2013-03-28</td>\n",
       "      <td>[Action, Comedy, Historical, Parody, Samurai, ...</td>\n",
       "      <td>[TV Tokyo, Aniplex, Dentsu, Shueisha, Miracle ...</td>\n",
       "      <td>[Sunrise]</td>\n",
       "      <td>Finished Airing</td>\n",
       "    </tr>\n",
       "    <tr>\n",
       "      <th>1</th>\n",
       "      <td>Gintama'</td>\n",
       "      <td>51.0</td>\n",
       "      <td>9.16</td>\n",
       "      <td>67153</td>\n",
       "      <td>2011-04-04</td>\n",
       "      <td>2012-03-26</td>\n",
       "      <td>[Action, Sci-Fi, Comedy, Historical, Parody, S...</td>\n",
       "      <td>[TV Tokyo, Aniplex, Dentsu, Trinity Sound, Mir...</td>\n",
       "      <td>[Sunrise]</td>\n",
       "      <td>Finished Airing</td>\n",
       "    </tr>\n",
       "    <tr>\n",
       "      <th>2</th>\n",
       "      <td>Hunter x Hunter (2011)</td>\n",
       "      <td>148.0</td>\n",
       "      <td>9.13</td>\n",
       "      <td>251094</td>\n",
       "      <td>2011-10-02</td>\n",
       "      <td>2014-09-24</td>\n",
       "      <td>[Action, Adventure, Super Power, Shounen]</td>\n",
       "      <td>[VAP, Nippon Television Network Corporation, S...</td>\n",
       "      <td>[Madhouse]</td>\n",
       "      <td>Finished Airing</td>\n",
       "    </tr>\n",
       "    <tr>\n",
       "      <th>3</th>\n",
       "      <td>Steins;Gate</td>\n",
       "      <td>24.0</td>\n",
       "      <td>9.17</td>\n",
       "      <td>403535</td>\n",
       "      <td>2011-04-06</td>\n",
       "      <td>2011-09-14</td>\n",
       "      <td>[Sci-Fi, Thriller]</td>\n",
       "      <td>[Frontier Works, Media Factory, Movic, AT-X, K...</td>\n",
       "      <td>[White Fox]</td>\n",
       "      <td>Finished Airing</td>\n",
       "    </tr>\n",
       "    <tr>\n",
       "      <th>4</th>\n",
       "      <td>Gintama.</td>\n",
       "      <td>NaN</td>\n",
       "      <td>9.17</td>\n",
       "      <td>6983</td>\n",
       "      <td>2017-01-09</td>\n",
       "      <td>NaT</td>\n",
       "      <td>[Action, Sci-Fi, Comedy, Historical, Parody, S...</td>\n",
       "      <td>[Sunrise, TV Tokyo]</td>\n",
       "      <td>[Bandai Namco Pictures]</td>\n",
       "      <td>Currently Airing</td>\n",
       "    </tr>\n",
       "  </tbody>\n",
       "</table>\n",
       "</div>"
      ],
      "text/plain": [
       "                    title  episodes  score  num_votes  air_start    air_end  \\\n",
       "0     Gintama': Enchousen      13.0   9.10      44356 2012-10-04 2013-03-28   \n",
       "1                Gintama'      51.0   9.16      67153 2011-04-04 2012-03-26   \n",
       "2  Hunter x Hunter (2011)     148.0   9.13     251094 2011-10-02 2014-09-24   \n",
       "3             Steins;Gate      24.0   9.17     403535 2011-04-06 2011-09-14   \n",
       "4                Gintama.       NaN   9.17       6983 2017-01-09        NaT   \n",
       "\n",
       "                                              genres  \\\n",
       "0  [Action, Comedy, Historical, Parody, Samurai, ...   \n",
       "1  [Action, Sci-Fi, Comedy, Historical, Parody, S...   \n",
       "2          [Action, Adventure, Super Power, Shounen]   \n",
       "3                                 [Sci-Fi, Thriller]   \n",
       "4  [Action, Sci-Fi, Comedy, Historical, Parody, S...   \n",
       "\n",
       "                                           producers                  studios  \\\n",
       "0  [TV Tokyo, Aniplex, Dentsu, Shueisha, Miracle ...                [Sunrise]   \n",
       "1  [TV Tokyo, Aniplex, Dentsu, Trinity Sound, Mir...                [Sunrise]   \n",
       "2  [VAP, Nippon Television Network Corporation, S...               [Madhouse]   \n",
       "3  [Frontier Works, Media Factory, Movic, AT-X, K...              [White Fox]   \n",
       "4                                [Sunrise, TV Tokyo]  [Bandai Namco Pictures]   \n",
       "\n",
       "             status  \n",
       "0   Finished Airing  \n",
       "1   Finished Airing  \n",
       "2   Finished Airing  \n",
       "3   Finished Airing  \n",
       "4  Currently Airing  "
      ]
     },
     "metadata": {},
     "output_type": "display_data"
    },
    {
     "name": "stdout",
     "output_type": "stream",
     "text": [
      "<class 'pandas.core.frame.DataFrame'>\n",
      "Int64Index: 3797 entries, 0 to 3817\n",
      "Data columns (total 10 columns):\n",
      "title        3797 non-null object\n",
      "episodes     3583 non-null float64\n",
      "score        3694 non-null float64\n",
      "num_votes    3797 non-null int32\n",
      "air_start    3760 non-null datetime64[ns]\n",
      "air_end      3506 non-null datetime64[ns]\n",
      "genres       3797 non-null object\n",
      "producers    3797 non-null object\n",
      "studios      3797 non-null object\n",
      "status       3797 non-null object\n",
      "dtypes: datetime64[ns](2), float64(2), int32(1), object(5)\n",
      "memory usage: 311.5+ KB\n"
     ]
    },
    {
     "data": {
      "text/html": [
       "<h4>Recommendation Frame</h4"
      ],
      "text/plain": [
       "<IPython.core.display.HTML object>"
      ]
     },
     "metadata": {},
     "output_type": "display_data"
    },
    {
     "data": {
      "text/html": [
       "<div>\n",
       "<table border=\"1\" class=\"dataframe\">\n",
       "  <thead>\n",
       "    <tr style=\"text-align: right;\">\n",
       "      <th></th>\n",
       "      <th>title</th>\n",
       "      <th>recommendations</th>\n",
       "    </tr>\n",
       "  </thead>\n",
       "  <tbody>\n",
       "    <tr>\n",
       "      <th>0</th>\n",
       "      <td>Gintama': Enchousen</td>\n",
       "      <td>{'Noragami': 0, 'SKET Dance': 0, 'Sakigake!! C...</td>\n",
       "    </tr>\n",
       "    <tr>\n",
       "      <th>1</th>\n",
       "      <td>Hunter x Hunter (2011)</td>\n",
       "      <td>{'MÄR': 0, 'Chihayafuru': 0, 'Naruto': 17, 'Dr...</td>\n",
       "    </tr>\n",
       "    <tr>\n",
       "      <th>2</th>\n",
       "      <td>Steins;Gate</td>\n",
       "      <td>{'Monogatari Series: Second Season': 0, 'Rozen...</td>\n",
       "    </tr>\n",
       "    <tr>\n",
       "      <th>3</th>\n",
       "      <td>Gintama.</td>\n",
       "      <td>{}</td>\n",
       "    </tr>\n",
       "    <tr>\n",
       "      <th>4</th>\n",
       "      <td>Gintama°</td>\n",
       "      <td>{'Baka to Test to Shoukanjuu': 1, 'Trigun': 0,...</td>\n",
       "    </tr>\n",
       "  </tbody>\n",
       "</table>\n",
       "</div>"
      ],
      "text/plain": [
       "                    title                                    recommendations\n",
       "0     Gintama': Enchousen  {'Noragami': 0, 'SKET Dance': 0, 'Sakigake!! C...\n",
       "1  Hunter x Hunter (2011)  {'MÄR': 0, 'Chihayafuru': 0, 'Naruto': 17, 'Dr...\n",
       "2             Steins;Gate  {'Monogatari Series: Second Season': 0, 'Rozen...\n",
       "3                Gintama.                                                 {}\n",
       "4                Gintama°  {'Baka to Test to Shoukanjuu': 1, 'Trigun': 0,..."
      ]
     },
     "metadata": {},
     "output_type": "display_data"
    },
    {
     "name": "stdout",
     "output_type": "stream",
     "text": [
      "<class 'pandas.core.frame.DataFrame'>\n",
      "Int64Index: 3797 entries, 0 to 3809\n",
      "Data columns (total 2 columns):\n",
      "title              3797 non-null object\n",
      "recommendations    3797 non-null object\n",
      "dtypes: object(2)\n",
      "memory usage: 89.0+ KB\n"
     ]
    },
    {
     "data": {
      "text/html": [
       "<h4>Stats Frame</h4"
      ],
      "text/plain": [
       "<IPython.core.display.HTML object>"
      ]
     },
     "metadata": {},
     "output_type": "display_data"
    },
    {
     "data": {
      "text/html": [
       "<div>\n",
       "<table border=\"1\" class=\"dataframe\">\n",
       "  <thead>\n",
       "    <tr style=\"text-align: right;\">\n",
       "      <th></th>\n",
       "      <th>title</th>\n",
       "      <th>score</th>\n",
       "      <th>stdev</th>\n",
       "      <th>num_votes</th>\n",
       "      <th>score1</th>\n",
       "      <th>score2</th>\n",
       "      <th>score3</th>\n",
       "      <th>score4</th>\n",
       "      <th>score5</th>\n",
       "      <th>score6</th>\n",
       "      <th>score7</th>\n",
       "      <th>score8</th>\n",
       "      <th>score9</th>\n",
       "      <th>score10</th>\n",
       "    </tr>\n",
       "  </thead>\n",
       "  <tbody>\n",
       "    <tr>\n",
       "      <th>0</th>\n",
       "      <td>Gintama': Enchousen</td>\n",
       "      <td>9.076630</td>\n",
       "      <td>1.358325</td>\n",
       "      <td>45713</td>\n",
       "      <td>396</td>\n",
       "      <td>44</td>\n",
       "      <td>55</td>\n",
       "      <td>121</td>\n",
       "      <td>340</td>\n",
       "      <td>739</td>\n",
       "      <td>2619</td>\n",
       "      <td>6405</td>\n",
       "      <td>11860</td>\n",
       "      <td>23134</td>\n",
       "    </tr>\n",
       "    <tr>\n",
       "      <th>1</th>\n",
       "      <td>Haikyuu!!: Karasuno Koukou VS Shiratorizawa Ga...</td>\n",
       "      <td>9.080238</td>\n",
       "      <td>1.064220</td>\n",
       "      <td>69107</td>\n",
       "      <td>147</td>\n",
       "      <td>18</td>\n",
       "      <td>28</td>\n",
       "      <td>78</td>\n",
       "      <td>256</td>\n",
       "      <td>794</td>\n",
       "      <td>3380</td>\n",
       "      <td>11566</td>\n",
       "      <td>23703</td>\n",
       "      <td>29137</td>\n",
       "    </tr>\n",
       "    <tr>\n",
       "      <th>2</th>\n",
       "      <td>Kuroko no Basket</td>\n",
       "      <td>8.420070</td>\n",
       "      <td>1.278095</td>\n",
       "      <td>220242</td>\n",
       "      <td>340</td>\n",
       "      <td>211</td>\n",
       "      <td>396</td>\n",
       "      <td>1034</td>\n",
       "      <td>3277</td>\n",
       "      <td>8412</td>\n",
       "      <td>30435</td>\n",
       "      <td>64263</td>\n",
       "      <td>64379</td>\n",
       "      <td>47495</td>\n",
       "    </tr>\n",
       "    <tr>\n",
       "      <th>3</th>\n",
       "      <td>Kamisama Hajimemashita◎</td>\n",
       "      <td>8.274162</td>\n",
       "      <td>1.301665</td>\n",
       "      <td>53370</td>\n",
       "      <td>44</td>\n",
       "      <td>46</td>\n",
       "      <td>79</td>\n",
       "      <td>248</td>\n",
       "      <td>960</td>\n",
       "      <td>2750</td>\n",
       "      <td>9401</td>\n",
       "      <td>16087</td>\n",
       "      <td>13126</td>\n",
       "      <td>10629</td>\n",
       "    </tr>\n",
       "    <tr>\n",
       "      <th>4</th>\n",
       "      <td>Hikaru no Go</td>\n",
       "      <td>8.069354</td>\n",
       "      <td>1.434932</td>\n",
       "      <td>37359</td>\n",
       "      <td>78</td>\n",
       "      <td>55</td>\n",
       "      <td>120</td>\n",
       "      <td>354</td>\n",
       "      <td>1186</td>\n",
       "      <td>2699</td>\n",
       "      <td>7023</td>\n",
       "      <td>10723</td>\n",
       "      <td>8780</td>\n",
       "      <td>6341</td>\n",
       "    </tr>\n",
       "  </tbody>\n",
       "</table>\n",
       "</div>"
      ],
      "text/plain": [
       "                                               title     score     stdev  \\\n",
       "0                                Gintama': Enchousen  9.076630  1.358325   \n",
       "1  Haikyuu!!: Karasuno Koukou VS Shiratorizawa Ga...  9.080238  1.064220   \n",
       "2                                   Kuroko no Basket  8.420070  1.278095   \n",
       "3                            Kamisama Hajimemashita◎  8.274162  1.301665   \n",
       "4                                       Hikaru no Go  8.069354  1.434932   \n",
       "\n",
       "   num_votes  score1  score2  score3  score4  score5  score6  score7  score8  \\\n",
       "0      45713     396      44      55     121     340     739    2619    6405   \n",
       "1      69107     147      18      28      78     256     794    3380   11566   \n",
       "2     220242     340     211     396    1034    3277    8412   30435   64263   \n",
       "3      53370      44      46      79     248     960    2750    9401   16087   \n",
       "4      37359      78      55     120     354    1186    2699    7023   10723   \n",
       "\n",
       "   score9  score10  \n",
       "0   11860    23134  \n",
       "1   23703    29137  \n",
       "2   64379    47495  \n",
       "3   13126    10629  \n",
       "4    8780     6341  "
      ]
     },
     "metadata": {},
     "output_type": "display_data"
    },
    {
     "name": "stdout",
     "output_type": "stream",
     "text": [
      "<class 'pandas.core.frame.DataFrame'>\n",
      "Int64Index: 3797 entries, 0 to 3804\n",
      "Data columns (total 14 columns):\n",
      "title        3797 non-null object\n",
      "score        3764 non-null float64\n",
      "stdev        3764 non-null float64\n",
      "num_votes    3797 non-null int64\n",
      "score1       3797 non-null int32\n",
      "score2       3797 non-null int32\n",
      "score3       3797 non-null int32\n",
      "score4       3797 non-null int32\n",
      "score5       3797 non-null int32\n",
      "score6       3797 non-null int32\n",
      "score7       3797 non-null int32\n",
      "score8       3797 non-null int32\n",
      "score9       3797 non-null int32\n",
      "score10      3797 non-null int32\n",
      "dtypes: float64(2), int32(10), int64(1), object(1)\n",
      "memory usage: 296.6+ KB\n"
     ]
    }
   ],
   "source": [
    "display(HTML('<h4>List Frame</h4'))\n",
    "display(listframe.head())\n",
    "listframe.info()\n",
    "display(HTML('<h4>Page Frame</h4'))\n",
    "display(pageframe.head())\n",
    "pageframe.info()\n",
    "display(HTML('<h4>Recommendation Frame</h4'))\n",
    "display(recommendationframe.head())\n",
    "recommendationframe.info()\n",
    "display(HTML('<h4>Stats Frame</h4'))\n",
    "display(statsframe.head())\n",
    "statsframe.info()"
   ]
  },
  {
   "cell_type": "markdown",
   "metadata": {},
   "source": [
    "One last check on integrity of data just to make sure we didn't mess anything up"
   ]
  },
  {
   "cell_type": "code",
   "execution_count": 43,
   "metadata": {
    "collapsed": false
   },
   "outputs": [
    {
     "data": {
      "text/plain": [
       "True"
      ]
     },
     "execution_count": 43,
     "metadata": {},
     "output_type": "execute_result"
    }
   ],
   "source": [
    "data_is_complete([statsframe,listframe,pageframe,recommendationframe],'title')"
   ]
  },
  {
   "cell_type": "markdown",
   "metadata": {},
   "source": [
    "### Publishing Clean Data"
   ]
  },
  {
   "cell_type": "code",
   "execution_count": 44,
   "metadata": {
    "collapsed": false
   },
   "outputs": [],
   "source": [
    "listframe.to_csv('animelist.csv', encoding='utf-8',index= False)\n",
    "pageframe.to_csv('animepage.csv', encoding='utf-8',index= False)\n",
    "recommendationframe.to_csv('animerecommendation.csv', encoding='utf-8',index= False)\n",
    "statsframe.to_csv('animestats.csv', encoding='utf-8',index= False)"
   ]
  }
 ],
 "metadata": {
  "anaconda-cloud": {},
  "kernelspec": {
   "display_name": "Python [default]",
   "language": "python",
   "name": "python3"
  },
  "language_info": {
   "codemirror_mode": {
    "name": "ipython",
    "version": 3
   },
   "file_extension": ".py",
   "mimetype": "text/x-python",
   "name": "python",
   "nbconvert_exporter": "python",
   "pygments_lexer": "ipython3",
   "version": "3.5.2"
  }
 },
 "nbformat": 4,
 "nbformat_minor": 1
}
